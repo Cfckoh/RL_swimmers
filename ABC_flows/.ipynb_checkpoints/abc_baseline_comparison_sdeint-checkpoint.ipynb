{
 "cells": [
  {
   "cell_type": "code",
   "execution_count": 1,
   "id": "386ea459",
   "metadata": {},
   "outputs": [],
   "source": [
    "import numpy as np\n",
    "import csv\n",
    "import matplotlib.pyplot as plt\n",
    "from abc_env import ABC_env\n",
    "from naive_agents import DoNothing, FixedPhi"
   ]
  },
  {
   "cell_type": "code",
   "execution_count": 9,
   "id": "5dd4a962",
   "metadata": {},
   "outputs": [],
   "source": [
    "# PARAMS\n",
    "A = 1.\n",
    "B = 0.7\n",
    "C = 0.43\n",
    "NU = 0.99\n",
    "kappa = 0.001\n",
    "BETA = 0.1\n",
    "PHI = 0.4\n",
    "D = 0.06 # placeholder for now\n",
    "dims = 3\n",
    "delta_t = 0.1"
   ]
  },
  {
   "cell_type": "code",
   "execution_count": 10,
   "id": "9c36b47c",
   "metadata": {},
   "outputs": [],
   "source": [
    "#TODO sample proper values for lyapunov exponent\n",
    "# decide if running inside environment or want more direct numerics (in julia or not)\n",
    "    # in evironment is fine maybe nooooot\n",
    "#"
   ]
  },
  {
   "cell_type": "code",
   "execution_count": null,
   "id": "924b9e31",
   "metadata": {},
   "outputs": [],
   "source": [
    "# trying doing direct with sdeint and see if that's faster"
   ]
  },
  {
   "cell_type": "code",
   "execution_count": null,
   "id": "1e8b2742",
   "metadata": {},
   "outputs": [],
   "source": []
  },
  {
   "cell_type": "code",
   "execution_count": 20,
   "id": "6eca8066",
   "metadata": {},
   "outputs": [],
   "source": [
    "dictionary = {}\n",
    "num_eps = 100\n",
    "env = ABC_env(A,B,C,0.2*np.pi,BETA,kappa,D,NU)\n",
    "for i in range(num_eps):\n",
    "    #print(f\"episode {i}\")\n",
    "    separations = []\n",
    "    penalties = []\n",
    "    env.reset()\n",
    "    env.delta_t = delta_t\n",
    "    while not env.isOver():\n",
    "        penalty = env.step(PHI)\n",
    "        separations.append(env.dist())\n",
    "        penalties.append(penalty)\n",
    "        \n",
    "    N = len(separations)    \n",
    "    S_n = 0.0\n",
    "    returns = np.zeros(N)\n",
    "    discount = np.exp(-NU*delta_t)\n",
    "    for i in range(1,N+1):\n",
    "        S_n = S_n*discount + penalties[-i]\n",
    "        returns[-i] = S_n\n",
    "        \n",
    "    \n",
    "    delta_r = 0.002\n",
    "    for i in range(N):\n",
    "        key = (i, int(separations[i]/delta_r))\n",
    "        if key in dictionary:\n",
    "            # increase sum and count\n",
    "            dictionary[key] = dictionary[key][0] + returns[i], dictionary[key][1] + 1\n",
    "        else:\n",
    "            dictionary[key] = [returns[i], 1]"
   ]
  },
  {
   "cell_type": "code",
   "execution_count": 7,
   "id": "076658c9",
   "metadata": {},
   "outputs": [
    {
     "data": {
      "text/plain": [
       "[]"
      ]
     },
     "execution_count": 7,
     "metadata": {},
     "output_type": "execute_result"
    }
   ],
   "source": [
    "separations"
   ]
  },
  {
   "cell_type": "code",
   "execution_count": 12,
   "id": "1686f697",
   "metadata": {},
   "outputs": [
    {
     "data": {
      "text/plain": [
       "1"
      ]
     },
     "execution_count": 12,
     "metadata": {},
     "output_type": "execute_result"
    }
   ],
   "source": [
    "x=[1,2,3]\n",
    "x[-3]"
   ]
  },
  {
   "cell_type": "code",
   "execution_count": null,
   "id": "0b4b05fc",
   "metadata": {},
   "outputs": [],
   "source": []
  }
 ],
 "metadata": {
  "kernelspec": {
   "display_name": "Python (stableBase3)",
   "language": "python",
   "name": "stablebase3"
  },
  "language_info": {
   "codemirror_mode": {
    "name": "ipython",
    "version": 3
   },
   "file_extension": ".py",
   "mimetype": "text/x-python",
   "name": "python",
   "nbconvert_exporter": "python",
   "pygments_lexer": "ipython3",
   "version": "3.11.0"
  }
 },
 "nbformat": 4,
 "nbformat_minor": 5
}
