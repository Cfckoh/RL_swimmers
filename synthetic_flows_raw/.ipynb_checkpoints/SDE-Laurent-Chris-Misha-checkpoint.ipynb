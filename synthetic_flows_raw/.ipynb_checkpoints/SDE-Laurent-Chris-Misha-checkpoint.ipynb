{
 "cells": [
  {
   "cell_type": "code",
   "execution_count": null,
   "id": "53fe4e3a",
   "metadata": {},
   "outputs": [
    {
     "name": "stderr",
     "output_type": "stream",
     "text": [
      "\u001b[32m\u001b[1m    Updating\u001b[22m\u001b[39m registry at `~/.julia/registries/General`\n",
      "\u001b[32m\u001b[1m    Updating\u001b[22m\u001b[39m git-repo `https://github.com/JuliaRegistries/General.git`\n"
     ]
    }
   ],
   "source": [
    "import Pkg; Pkg.add(\"StatsBase\");Pkg.add(\"CurveFit\");\n",
    "using DifferentialEquations\n",
    "using Plots\n",
    "using StatsBase\n",
    "using LinearAlgebra\n",
    "using CurveFit"
   ]
  },
  {
   "cell_type": "code",
   "execution_count": null,
   "id": "fe6b0707",
   "metadata": {},
   "outputs": [],
   "source": [
    "function f(u,p,t)\n",
    "    # r1 = u1, r2 = u2, s11=u3, s12=u4 s21=u5, s22=u6\n",
    "    return [\n",
    "        u[3]*u[1] + u[4]*u[2] - PHI * u[1]\n",
    "        u[5]*u[1] + u[6]*u[2] - PHI * u[2]\n",
    "        - u[3]\n",
    "        - u[4]\n",
    "        - u[5]\n",
    "        - u[6]\n",
    "    ]\n",
    "end\n",
    "\n",
    "\n",
    "function g(u,p,t)\n",
    "    [\n",
    "        sqrt(kappa) 0 0 0 0\n",
    "        0 sqrt(kappa) 0 0 0\n",
    "        0 0 sqrt(D) 0 0 \n",
    "        0 0 0 sqrt(D) sqrt(2)*sqrt(D)\n",
    "        0 0 0 sqrt(D) -sqrt(2)*sqrt(D)\n",
    "        0 0 -sqrt(D) 0 0\n",
    "    ]\n",
    "end"
   ]
  },
  {
   "cell_type": "code",
   "execution_count": null,
   "id": "37e16e0d",
   "metadata": {},
   "outputs": [],
   "source": [
    "kappa = 0.001\n",
    "D = 0.01\n",
    "PHI=0.02\n",
    "rd = sqrt(kappa/D)"
   ]
  },
  {
   "cell_type": "code",
   "execution_count": null,
   "id": "fe9c540f",
   "metadata": {
    "scrolled": true
   },
   "outputs": [],
   "source": [
    "u0 = zeros(6)\n",
    "tspan = (0.0, 50000.0)\n",
    "prob = SDEProblem(f, g, u0, tspan, noise_rate_prototype = zeros(6, 5))\n",
    "res = solve(prob)"
   ]
  },
  {
   "cell_type": "code",
   "execution_count": null,
   "id": "5426f72d",
   "metadata": {},
   "outputs": [],
   "source": [
    "u = reduce(hcat, res.u)\n",
    "plot(res.t, u[2,:])\n",
    "plot!(res.t, u[1,:])"
   ]
  },
  {
   "cell_type": "code",
   "execution_count": null,
   "id": "b31edf06",
   "metadata": {},
   "outputs": [],
   "source": [
    "i = 200\n",
    "sigma =  [u[3,i] u[4,i]; u[5,i] u[6,i]]\n",
    "eigen(sigma)\n"
   ]
  },
  {
   "cell_type": "code",
   "execution_count": null,
   "id": "3b7ea378",
   "metadata": {},
   "outputs": [],
   "source": [
    "plot(res.t, u[4,:])"
   ]
  },
  {
   "cell_type": "code",
   "execution_count": null,
   "id": "39df40f2",
   "metadata": {},
   "outputs": [],
   "source": [
    "seperations = sum(x -> x^2, u[1:2,:]; dims=1)\n",
    "seperations .= sqrt.(seperations)"
   ]
  },
  {
   "cell_type": "markdown",
   "id": "fd6a70e8",
   "metadata": {},
   "source": [
    "Below is the observed stationary distribution. Need to figure out how to do the fitting in Julia that I did in python but it appears clear that it is not following a power law. Additionally the r_d for the above chosen parameters is 10. Which also does not match observation."
   ]
  },
  {
   "cell_type": "code",
   "execution_count": null,
   "id": "9fbe05f5",
   "metadata": {},
   "outputs": [],
   "source": [
    "# only plot from 10000 so we don't consider data from the begining of the episode\n",
    "#hist=histogram(transpose(seperations)[10000:end],bins=2000,normalize=:pdf,yscale=:log10)\n",
    "\n",
    "# Generate the reference curve data\n",
    "r_values = range(rd, stop = maximum(transpose(seperations)), length = 1000)\n",
    "pst(r) = (rd/r)^(2(PHI-D)/D)/r\n",
    "pst_values = pst.(r_values)\n",
    "\n",
    "# Create a histogram\n",
    "histogram_data = transpose(seperations)[1000:end]\n",
    "hist = histogram(histogram_data, bins = 2000, normalize = :pdf, yscale = :log10, legend = false, alpha = 0.5)\n",
    "\n",
    "# Overlay the reference curve in solid orange\n",
    "plot!(r_values, pst_values, color = :orange, linewidth = 2)\n",
    "\n",
    "# Show the plot\n",
    "display(hist)"
   ]
  },
  {
   "cell_type": "code",
   "execution_count": null,
   "id": "47cbf97e",
   "metadata": {},
   "outputs": [],
   "source": []
  }
 ],
 "metadata": {
  "@webio": {
   "lastCommId": null,
   "lastKernelId": null
  },
  "kernelspec": {
   "display_name": "Julia 1.8.0",
   "language": "julia",
   "name": "julia-1.8"
  },
  "language_info": {
   "file_extension": ".jl",
   "mimetype": "application/julia",
   "name": "julia",
   "version": "1.8.0"
  }
 },
 "nbformat": 4,
 "nbformat_minor": 5
}
