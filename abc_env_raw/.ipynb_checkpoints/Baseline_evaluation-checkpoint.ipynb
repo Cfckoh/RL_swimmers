{
 "cells": [
  {
   "cell_type": "code",
   "execution_count": 1,
   "id": "9f5a642b",
   "metadata": {},
   "outputs": [],
   "source": [
    "import matplotlib.pyplot as plt\n",
    "import numpy as np\n",
    "import plotly.graph_objects as go\n",
    "import copy\n",
    "import torch\n",
    "from abc_env_stoch import ABCflow\n",
    "from naive_agents import DoNothing, FixedPhi\n",
    "#from dynamic_phi_agent import DynamicPhiAgent\n",
    "#from dynamic_phi_agent_mean_only import DynamicPhiAgentMeanOnly\n",
    "#from dynamic_phi_agent_mean_plus_var import DynamicPhiAgent"
   ]
  },
  {
   "cell_type": "code",
   "execution_count": 2,
   "id": "66dbb5b8",
   "metadata": {},
   "outputs": [],
   "source": [
    "class Physics_baseline:\n",
    "    def __init__(self, prescribed_phi,lyapunov_mu, lyapunov_sigma, sample_time, r_d,cost_coef=1, nu=0.05):\n",
    "        self.lyapunov = lyapunov_mu\n",
    "        self.prescribed_phi = prescribed_phi\n",
    "        self.cramer_d2 = 1/(lyapunov_sigma * sample_time)\n",
    "        self.beta = cost_coef\n",
    "        self.r_d = r_d\n",
    "        self.nu = nu # ??? this doesn't seem right\n",
    "    \n",
    "    def evaluate(self, seperation):\n",
    "        a = self.lyapunov + 1/(2*self.cramer_d2)\n",
    "        b = self.lyapunov + 3/(2*self.cramer_d2)\n",
    "        first_term = ((seperation**2/self.lyapunov)*np.log(seperation/self.r_d)+self.r_d**2/self.nu)\n",
    "        second_term = ((self.prescribed_phi**2+self.beta)*(self.prescribed_phi-a))/(self.prescribed_phi - b)\n",
    "        return -first_term*second_term\n",
    "        # TODO resovle new baseline"
   ]
  },
  {
   "cell_type": "code",
   "execution_count": 3,
   "id": "8ecbca47",
   "metadata": {},
   "outputs": [],
   "source": [
    "def compare_return_to_baseline(agent, agent_name, baseline, sep_size=0.2*np.pi,num_eps=10,time_horizon=5.):\n",
    "    labels=[agent_name, f\"baseline_{baseline.prescribed_phi}\"]\n",
    "    \n",
    "    \n",
    "    env = ABCflow(sep_size,a=1.,b=0.7,c=0.43)\n",
    "    env.limit = time_horizon\n",
    "    env.kappa = 0.01579 # hard coded BAAAAAD\n",
    "    step_rewards = np.zeros(int(env.limit/env.deltaT)+1)\n",
    "    baseline_pred = np.zeros(int(env.limit/env.deltaT)+1)\n",
    "    for i in range(0,num_eps):\n",
    "        time_step=0\n",
    "        #episode_rew=0\n",
    "        while not env.isOver():\n",
    "            action=agent.sample_action(env.getState())\n",
    "            reward = env.step(action)\n",
    "            #episode_rew += reward\n",
    "            step_rewards[time_step] += reward\n",
    "            baseline_pred[time_step] += -1.5*baseline.evaluate(env.dist())\n",
    "            time_step += 1\n",
    "        env.reset()\n",
    "        \n",
    "    \n",
    "    returns = np.zeros(int(env.limit/env.deltaT)+1)\n",
    "    g_return = 0.\n",
    "    for i in range(len(returns)-1,-1,-1):\n",
    "        g_return = step_rewards[i] + g_return\n",
    "        returns[i] = g_return\n",
    "    \n",
    "    plt.plot(np.arange(len(step_rewards))/(1/env.deltaT),returns/num_eps)\n",
    "    plt.plot(np.arange(len(step_rewards))/(1/env.deltaT),baseline_pred/num_eps)\n",
    "    plt.legend(labels)\n",
    "    plt.title(f\"Baseline vs Actual Strategy\")\n",
    "    plt.xlabel(\"time\")\n",
    "    plt.ylabel(\"reward\")\n",
    "    plt.savefig(f'baseline_comparison')"
   ]
  },
  {
   "cell_type": "code",
   "execution_count": 4,
   "id": "cc8431a9",
   "metadata": {},
   "outputs": [],
   "source": [
    "phi_val = 1.1\n",
    "phi_aproximator = Physics_baseline(phi_val,0.2451,0.2036,5.,0.02*np.pi) \n",
    "phi_agent = FixedPhi(phi_val)"
   ]
  },
  {
   "cell_type": "code",
   "execution_count": 5,
   "id": "a103435a",
   "metadata": {},
   "outputs": [
    {
     "data": {
      "image/png": "[encoded data removed]",
      "text/plain": [
       "<Figure size 640x480 with 1 Axes>"
      ]
     },
     "metadata": {},
     "output_type": "display_data"
    }
   ],
   "source": [
    "compare_return_to_baseline(phi_agent,f\"phi={phi_agent.phi}\",phi_aproximator)"
   ]
  },
  {
   "cell_type": "code",
   "execution_count": 6,
   "id": "e75bc4b1",
   "metadata": {},
   "outputs": [
    {
     "ename": "AssertionError",
     "evalue": "",
     "output_type": "error",
     "traceback": [
      "\u001b[0;31m---------------------------------------------------------------------------\u001b[0m",
      "\u001b[0;31mAssertionError\u001b[0m                            Traceback (most recent call last)",
      "Cell \u001b[0;32mIn[6], line 1\u001b[0m\n\u001b[0;32m----> 1\u001b[0m \u001b[38;5;28;01massert\u001b[39;00m(\u001b[38;5;241m1\u001b[39m\u001b[38;5;241m==\u001b[39m\u001b[38;5;241m0\u001b[39m)\n",
      "\u001b[0;31mAssertionError\u001b[0m: "
     ]
    }
   ],
   "source": [
    "assert(1==0)"
   ]
  },
  {
   "cell_type": "code",
   "execution_count": null,
   "id": "4807443b",
   "metadata": {},
   "outputs": [],
   "source": [
    "phi_val = 0.5\n",
    "phi_aproximator = Physics_baseline(phi_val,0.18265,0.17904,5.) \n",
    "phi_agent = FixedPhi(1.1)\n",
    "compare_return_to_baseline(phi_agent,f\"phi={phi_agent.phi}\",phi_aproximator)"
   ]
  },
  {
   "cell_type": "code",
   "execution_count": null,
   "id": "cf2af794",
   "metadata": {},
   "outputs": [],
   "source": [
    "#compare_return_to_baseline(phi_agent,f\"phi={phi_agent.phi}\",phi_aproximator)\n",
    "phi_val = 0.8\n",
    "phi_aproximator = Physics_baseline(phi_val,0.16980,0.12038,10.) \n",
    "phi_agent = FixedPhi(1.0)\n",
    "compare_return_to_baseline(phi_agent,\"phi=1.0\",phi_aproximator, time_horizon=10.)"
   ]
  },
  {
   "cell_type": "code",
   "execution_count": null,
   "id": "a99fe612",
   "metadata": {},
   "outputs": [],
   "source": [
    "phi_aproximator.evaluate(np.array([0.02,0.018]))"
   ]
  },
  {
   "cell_type": "code",
   "execution_count": null,
   "id": "d6f369d5",
   "metadata": {},
   "outputs": [],
   "source": [
    "phi_aproximator.evaluate(0.018)"
   ]
  },
  {
   "cell_type": "code",
   "execution_count": null,
   "id": "5210c2f4",
   "metadata": {},
   "outputs": [],
   "source": [
    "x=np.array([[0.02,0.018],\n",
    "        [1.,1.2]])\n",
    "torch.linalg.norm(torch.tensor(x), axis=1)"
   ]
  },
  {
   "cell_type": "code",
   "execution_count": null,
   "id": "f46f295a",
   "metadata": {},
   "outputs": [],
   "source": []
  }
 ],
 "metadata": {
  "@webio": {
   "lastCommId": null,
   "lastKernelId": null
  },
  "kernelspec": {
   "display_name": "Python (stableBase3)",
   "language": "python",
   "name": "stablebase3"
  },
  "language_info": {
   "codemirror_mode": {
    "name": "ipython",
    "version": 3
   },
   "file_extension": ".py",
   "mimetype": "text/x-python",
   "name": "python",
   "nbconvert_exporter": "python",
   "pygments_lexer": "ipython3",
   "version": "3.11.0"
  }
 },
 "nbformat": 4,
 "nbformat_minor": 5
}
