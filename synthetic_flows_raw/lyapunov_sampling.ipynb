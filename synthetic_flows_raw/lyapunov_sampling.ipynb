{
 "cells": [
  {
   "cell_type": "code",
   "execution_count": 1,
   "id": "102979ec",
   "metadata": {},
   "outputs": [],
   "source": [
    "import sdeint\n",
    "import numpy as np\n",
    "import random as rand\n",
    "import matplotlib.pyplot as plt\n",
    "from itertools import accumulate\n",
    "from scipy.optimize import curve_fit\n",
    "from synthetic_env import synthetic_env\n",
    "from naive_agents import DoNothing, FixedPhi\n",
    "from scipy.stats import norm"
   ]
  },
  {
   "cell_type": "code",
   "execution_count": 2,
   "id": "e81d76fd",
   "metadata": {},
   "outputs": [],
   "source": [
    "def expected_prop(r,scaling,phi,lyapunov,r_d,kramer_d2):\n",
    "    return scaling*(1/r)*np.power((r_d/r),(2*(phi-lyapunov)*kramer_d2))\n",
    "\n",
    "def expected_prop_2(r,PHI,D,rd,scaling=1.0):\n",
    "    return scaling*np.power((rd/r),(2*(PHI-D)/D))/r\n",
    "    \n",
    "\n",
    "def expo(x,a,b):\n",
    "    return a*np.exp(b*x)\n",
    "\n",
    "\"\"\"\n",
    "Investigation into the stationary distribution given a fixed \\bar{\\lambda}_1 \n",
    "\n",
    "WARN: may run forever if phi is too small and convergence never occurs\n",
    "\"\"\"\n",
    "\n",
    "#TODO PICK D AND 1/D\n",
    "\n",
    "def stationary_distribution_2d(r_d, phi,D=0.1,num_eps=100):\n",
    "    \n",
    "    PHI = 0.2  # Define PHI value\n",
    "    kappa = 0.001  # Define kappa value\n",
    "    D = 0.1  # Define D value\n",
    "    rd = np.sqrt(kappa/D)\n",
    "    \n",
    "    lambda_bar=D\n",
    "    kramer_d2=1/D\n",
    "    agent = FixedPhi(phi)\n",
    "    env = synthetic_env(r_d, D=D,kappa=kappa)\n",
    "    env.deltaT=0.005\n",
    "    env.limit = 10000\n",
    "    #env.kappa = r_d**2 * lambda_bar\n",
    "    observed_distances = []\n",
    "    collect_data = False\n",
    "    start_collection = 0\n",
    "    \n",
    "    for i in range(0,num_eps):\n",
    "        time_step=0\n",
    "        #episode_rew=0\n",
    "        while not env.isOver():\n",
    "            action=agent.sample_action(env.getState())\n",
    "            reward = env.step(action)\n",
    "            time_step += 1\n",
    "            \n",
    "            # IF pass time mark say t=10 start collecting distribution statistics of the stationary distribution\n",
    "            #print(env.dist())\n",
    "            if env.time > 100:\n",
    "                collect_data = True\n",
    "                start_collection = env.time\n",
    "            if collect_data:\n",
    "                observed_distances.append(env.dist())\n",
    "                #if (env.time - start_collection) > 20:\n",
    "                #    break\n",
    "            \n",
    "        env.reset()\n",
    "    #print(observed_distances)\n",
    "    n,bins,_ = plt.hist(observed_distances, bins=500, density=True)\n",
    "    \n",
    "    #return\n",
    "    \n",
    "    index_max = max(range(len(n)), key=n.__getitem__)\n",
    "    n=n[(index_max+1):]\n",
    "    bins_to_fit = bins[(index_max+1):-1] # remove last edge so n and bins size match\n",
    "    print(f\"r_d approx = {bins[index_max]}\")\n",
    "    \n",
    "    pars,cov = curve_fit(lambda r, scaling:expected_prop(r,scaling,phi,lambda_bar,r_d,kramer_d2) , xdata=bins_to_fit, ydata=n, p0=[1], bounds=(0, np.inf))\n",
    "\n",
    "    pars_exp, cov_exp = curve_fit(expo, bins_to_fit,n)\n",
    "    \n",
    "    #plt.plot(bins_to_fit,expected_prop(bins_to_fit,pars[0],phi,lambda_bar,r_d,kramer_d2))\n",
    "    plt.plot(bins_to_fit,expected_prop_2(bins_to_fit,phi,D,r_d))\n",
    "    plt.plot(bins_to_fit,expo(bins_to_fit,*pars_exp))\n",
    "    plt.xlabel(\"seperation\")\n",
    "    plt.ylabel(\"log density\")\n",
    "    plt.title(f\"stationary distribution phi={phi}\")\n",
    "    \n",
    "    labels=['Power Law From Paper', \"Exponential\"]\n",
    "    plt.legend(labels)\n",
    "    \n",
    "    plt.yscale(\"log\")\n",
    "    ax = plt.gca()\n",
    "    plt.axvline(x=r_d, color = 'orange')\n",
    "    log_n=np.log(n)\n",
    "    top = max(np.log(n))\n",
    "    bot = min(log_n[np.where(log_n!=-np.inf)])\n",
    "    label_loc = np.exp(sum(np.log(ax.get_ylim()))/2)\n",
    "    \n",
    "    bin_width = bins[1] - bins[0]\n",
    "    plt.text(r_d + bin_width/2,label_loc,f\"r_d = {r_d:.4f}\",rotation=90, color = \"orange\")\n",
    "    \n",
    "    plt.ylim(bottom=10**(-7), top=10**2)\n",
    "    plt.xlim(right=1.5)\n",
    "    #ax.set_xlim([0, 0.5])\n",
    "    #plt.axvline(x=bins[index_max], color = 'orange', label=\"blah\")\n",
    "    #log_n=np.log(n)\n",
    "    #top = max(np.log(n))\n",
    "    #bot = min(log_n[np.where(log_n!=-np.inf)])\n",
    "    #label_loc = np.exp(sum(np.log(ax.get_ylim()))/2)\n",
    "    #plt.text(bins[index_max+1],label_loc,f\"r_d ~ {bins[index_max]:.4f}\",rotation=90, color = \"orange\")\n",
    "    \n",
    "    \n",
    "    \n",
    "    return n,bins\n",
    "    #plt.xscale(\"log\")\n",
    "    \n",
    "    #plot maybe save data too somewhere for quick plotting later\n",
    "    "
   ]
  },
  {
   "cell_type": "code",
   "execution_count": 3,
   "id": "e4797734",
   "metadata": {
    "scrolled": true
   },
   "outputs": [],
   "source": [
    "#r_d = np.sqrt(0.001/0.1)\n",
    "#stationary_distribution_2d(r_d, .2, num_eps=1)\n"
   ]
  },
  {
   "cell_type": "code",
   "execution_count": 4,
   "id": "bf000530",
   "metadata": {
    "scrolled": true
   },
   "outputs": [
    {
     "name": "stdout",
     "output_type": "stream",
     "text": [
      "0.06283185307179587\n"
     ]
    }
   ],
   "source": [
    "PHI = 0.7 # Define PHI value\n",
    "kappa = 0.02*np.pi  # Define kappa value\n",
    "D = 0.25  # Define D value\n",
    "r_d = np.sqrt(kappa/D)\n",
    "\n",
    "lambda_bar=D\n",
    "kramer_d2=1/D\n",
    "agent = FixedPhi(PHI)\n",
    "env = synthetic_env(r_d, D=D,kappa=kappa)\n",
    "env.deltaT=0.005\n",
    "env.limit = 10000\n",
    "env.kappa = kappa\n",
    "print(env.kappa)\n",
    "#env.kappa = r_d**2 * lambda_bar\n",
    "observed_distances = []\n",
    "collect_data = False\n",
    "start_collection = 0\n",
    "\n",
    "for i in range(0,1):\n",
    "    time_step=0\n",
    "    #episode_rew=0\n",
    "    while not env.isOver():\n",
    "        action=agent.sample_action(env.getState())\n",
    "        #print(f\"Attempted phi is {np.linalg.norm(action)/np.linalg.norm(env.getState())}\")\n",
    "        reward = env.step(action)\n",
    "        time_step += 1\n",
    "\n",
    "        # IF pass time mark say t=10 start collecting distribution statistics of the stationary distribution\n",
    "        #print(env.dist())\n",
    "        if env.time > 100:\n",
    "            collect_data = True\n",
    "            start_collection = env.time\n",
    "        if collect_data:\n",
    "            observed_distances.append(env.dist())\n",
    "            #if (env.time - start_collection) > 20:\n",
    "            #    break\n",
    "\n",
    "    env.reset()\n"
   ]
  },
  {
   "cell_type": "code",
   "execution_count": 5,
   "id": "48bea7e5",
   "metadata": {},
   "outputs": [
    {
     "name": "stdout",
     "output_type": "stream",
     "text": [
      "r_d approx = 0.2152592306753537\n"
     ]
    },
    {
     "name": "stderr",
     "output_type": "stream",
     "text": [
      "/tmp/ipykernel_8042/55218331.py:32: RuntimeWarning: divide by zero encountered in log\n",
      "  log_n=np.log(n)\n",
      "/tmp/ipykernel_8042/55218331.py:33: RuntimeWarning: divide by zero encountered in log\n",
      "  top = max(np.log(n))\n"
     ]
    },
    {
     "data": {
      "text/plain": [
       "(-0.11435084854445225, 2.5)"
      ]
     },
     "execution_count": 5,
     "metadata": {},
     "output_type": "execute_result"
    },
    {
     "data": {
      "image/png": "[encoded data removed]",
      "text/plain": [
       "<Figure size 640x480 with 1 Axes>"
      ]
     },
     "metadata": {},
     "output_type": "display_data"
    }
   ],
   "source": [
    "#print(observed_distances)\n",
    "n,bins,_ = plt.hist(observed_distances, bins=500, density=True)\n",
    "\n",
    "#return\n",
    "\n",
    "index_max = max(range(len(n)), key=n.__getitem__)\n",
    "n=n[(index_max+1):]\n",
    "bins_to_fit = bins[(index_max+1):-1] # remove last edge so n and bins size match\n",
    "print(f\"r_d approx = {bins[index_max]}\")\n",
    "\n",
    "#pars,cov = curve_fit(lambda r, scaling:expected_prop(r,scaling,phi,lambda_bar,r_d,kramer_d2) , xdata=bins_to_fit, ydata=n, p0=[1], bounds=(0, np.inf))\n",
    "\n",
    "pars_exp, cov_exp = curve_fit(expo, bins_to_fit,n)\n",
    "\n",
    "\n",
    "x_range = np.arange(r_d,max(observed_distances[10000:]),0.01)\n",
    "plt.plot(x_range,expected_prop_2(x_range,PHI,D,r_d,0.5))\n",
    "\n",
    "\n",
    "#plt.plot(bins_to_fit,expected_prop_2(bins_to_fit,PHI,D,r_d)*0.5)\n",
    "#plt.plot(bins_to_fit,expo(bins_to_fit,*pars_exp))\n",
    "plt.xlabel(\"seperation\")\n",
    "plt.ylabel(\"log density\")\n",
    "plt.title(f\"stationary distribution phi={PHI}\")\n",
    "\n",
    "labels=['Power Law From Paper', \"Exponential\"]\n",
    "plt.legend(labels)\n",
    "\n",
    "plt.yscale(\"log\")\n",
    "ax = plt.gca()\n",
    "plt.axvline(x=r_d, color = 'orange')\n",
    "log_n=np.log(n)\n",
    "top = max(np.log(n))\n",
    "bot = min(log_n[np.where(log_n!=-np.inf)])\n",
    "label_loc = np.exp(sum(np.log(ax.get_ylim()))/2)\n",
    "\n",
    "bin_width = bins[1] - bins[0]\n",
    "plt.text(r_d + bin_width/2,label_loc,f\"r_d = {r_d:.4f}\",rotation=90, color = \"orange\")\n",
    "\n",
    "plt.ylim(bottom=10**(-7), top=10**2)\n",
    "plt.xlim(right=2.5)"
   ]
  },
  {
   "cell_type": "code",
   "execution_count": 6,
   "id": "ee073570",
   "metadata": {},
   "outputs": [
    {
     "ename": "AssertionError",
     "evalue": "",
     "output_type": "error",
     "traceback": [
      "\u001b[0;31m---------------------------------------------------------------------------\u001b[0m",
      "\u001b[0;31mAssertionError\u001b[0m                            Traceback (most recent call last)",
      "Cell \u001b[0;32mIn[6], line 1\u001b[0m\n\u001b[0;32m----> 1\u001b[0m \u001b[38;5;28;01massert\u001b[39;00m(\u001b[38;5;241m1\u001b[39m\u001b[38;5;241m==\u001b[39m\u001b[38;5;241m0\u001b[39m)\n",
      "\u001b[0;31mAssertionError\u001b[0m: "
     ]
    }
   ],
   "source": [
    "assert(1==0)"
   ]
  },
  {
   "cell_type": "code",
   "execution_count": null,
   "id": "d6169fd4",
   "metadata": {},
   "outputs": [],
   "source": [
    "import sdeint\n",
    "import numpy as np\n",
    "import random as rand\n",
    "import matplotlib.pyplot as plt\n",
    "\n",
    "def control_2d(x, t, *args):\n",
    "    \"Deterministic part of the flow handles time correlation and control\"\n",
    "\n",
    "    dx= np.array([\n",
    "        x[2]*x[0] + x[3]*x[1] - PHI*x[0],\n",
    "        x[4]*x[0] + x[5]*x[1] - PHI*x[1],\n",
    "        -x[2],\n",
    "        -x[3],\n",
    "        -x[4],\n",
    "        -x[5]\n",
    "    ])\n",
    "\n",
    "\n",
    "    return dx\n",
    "\n",
    "def stoch_flow_2d(x, t, *args):\n",
    "    \"\"\"\n",
    "    The stochastic flows returns an array that is multiplied by the wiener proccesses\n",
    "    Array is mostly diagonal?\n",
    "    \"\"\"\n",
    "    #print(x)\n",
    "    #kappa = args[0]\n",
    "    #D = args[1]\n",
    "    arr = np.zeros((6,5))\n",
    "    arr[0,0] = arr[1,1] = np.sqrt(kappa)\n",
    "    arr[2,2] = np.sqrt(D)\n",
    "    arr[3,3] = np.sqrt(D)\n",
    "    arr[3,4] = np.sqrt(2*D)\n",
    "    arr[4,3] = np.sqrt(D)\n",
    "    arr[4,4] = -np.sqrt(2*D)\n",
    "    arr[5,2] = -np.sqrt(D)\n",
    "    return arr\n",
    "\n",
    "\n",
    "# used to curry args into sdeint\n",
    "def closure(func, *args):\n",
    "    def newfunc(x, t):\n",
    "        return func(x, t, *args)\n",
    "    return newfunc\n",
    "\"\"\"\n",
    "\n",
    "kappa = 0.01\n",
    "D = 0.1\n",
    "PHI=0.2\n",
    "rd = np.sqrt(kappa/D)\n",
    "\n",
    "tspan = np.arange(0.0, 50000.0,0.01)\n",
    "trajectory = sdeint.itoint(closure(control_2d),\n",
    "                                     closure(stoch_flow_2d),\n",
    "                                     np.zeros(6),\n",
    "                                     tspan,\n",
    "                                    )\n",
    "observed_distances = np.linalg.norm(trajectory[:,:2],axis=1)\n",
    "\n",
    "\n",
    "n,bins,_ = plt.hist(observed_distances[10000:], bins=500, density=True)\n",
    "\"\"\""
   ]
  },
  {
   "cell_type": "code",
   "execution_count": null,
   "id": "03642ee0",
   "metadata": {},
   "outputs": [],
   "source": [
    "kappa = 0.001\n",
    "D = 0.01\n",
    "PHI=0.02\n",
    "rd = np.sqrt(kappa/D)"
   ]
  },
  {
   "cell_type": "code",
   "execution_count": null,
   "id": "607f6a07",
   "metadata": {
    "scrolled": true
   },
   "outputs": [],
   "source": [
    "def expected(r):\n",
    "    return np.power((rd/r),(2*(PHI-D)/D))/r"
   ]
  },
  {
   "cell_type": "code",
   "execution_count": null,
   "id": "cb098a10",
   "metadata": {},
   "outputs": [],
   "source": [
    "tspan = np.arange(0.0, 50000.0,0.05)\n",
    "trajectory = sdeint.itoint(closure(control_2d),\n",
    "                                     closure(stoch_flow_2d),\n",
    "                                     np.zeros(6),\n",
    "                                     tspan,\n",
    "                                 0.02*np.pi   )\n",
    "observed_distances = np.linalg.norm(trajectory[:,:2],axis=1)"
   ]
  },
  {
   "cell_type": "code",
   "execution_count": null,
   "id": "4eb082dc",
   "metadata": {},
   "outputs": [],
   "source": [
    "n,bins,_ = plt.hist(observed_distances[10000:], bins=500, density=True)\n",
    "x_points = np.arange(rd,max(observed_distances[10000:]),0.05)\n",
    "plt.plot(x_points,expected(x_points))\n",
    "plt.yscale(\"log\")\n",
    "plt.ylim(bottom=10**(-4))"
   ]
  },
  {
   "cell_type": "code",
   "execution_count": null,
   "id": "8ff905db",
   "metadata": {},
   "outputs": [],
   "source": []
  },
  {
   "cell_type": "code",
   "execution_count": 19,
   "id": "65055081",
   "metadata": {
    "scrolled": true
   },
   "outputs": [],
   "source": [
    "\n",
    "def expected(r):\n",
    "    return np.power((rd/r),(2*(PHI-D)/D))/r\n",
    "\n",
    "\n",
    "PHI = 0.7  # Define PHI value\n",
    "kappa = 0.02*np.pi#0.001  # Define kappa value\n",
    "D = 0.25  # Define D value\n",
    "rd = np.sqrt(kappa/D)\n",
    "def f(u, t):\n",
    "    #print(u)\n",
    "    return np.array([\n",
    "        u[2]*u[0] + u[3]*u[1] - PHI * u[0],\n",
    "        u[4]*u[0] + u[5]*u[1] - PHI * u[1],\n",
    "        -u[2],\n",
    "        -u[3],\n",
    "        -u[4],\n",
    "        -u[5]\n",
    "    ])\n",
    "\n",
    "def g(u, t):\n",
    "    return np.array([\n",
    "        [np.sqrt(kappa), 0, 0, 0, 0],\n",
    "        [0, np.sqrt(kappa), 0, 0, 0],\n",
    "        [0, 0, np.sqrt(D), 0, 0],\n",
    "        [0, 0, 0, np.sqrt(D), np.sqrt(2) * np.sqrt(D)],\n",
    "        [0, 0, 0, np.sqrt(D), -np.sqrt(2) * np.sqrt(D)],\n",
    "        [0, 0, -np.sqrt(D), 0, 0]\n",
    "    ])\n",
    "\n",
    "u0 = np.zeros(6)\n",
    "tspan = np.arange(0.0, 10000.0,0.005)  # 10000 steps\n",
    "\n",
    "result = sdeint.itoint(f, g, u0, tspan)\n",
    "\n",
    "separations = np.sum(result[:, :2]**2, axis=1)\n",
    "separations = np.sqrt(separations)\n",
    "\n"
   ]
  },
  {
   "cell_type": "code",
   "execution_count": 25,
   "id": "15bd1cbb",
   "metadata": {
    "scrolled": false
   },
   "outputs": [
    {
     "data": {
      "image/png": "[encoded data removed]",
      "text/plain": [
       "<Figure size 800x600 with 1 Axes>"
      ]
     },
     "metadata": {},
     "output_type": "display_data"
    }
   ],
   "source": [
    "# Create a histogram\n",
    "histogram_data = separations[10000:]\n",
    "plt.figure(figsize=(8, 6))\n",
    "plt.hist(histogram_data, bins=2000, density=True, alpha=0.5)\n",
    "\n",
    "x_points = np.arange(rd,max(separations[10000:]),0.01)\n",
    "plt.plot(x_points,expected(x_points))\n",
    "plt.plot(x_points,expected(x_points)*0.55)\n",
    "plt.yscale(\"log\")\n",
    "plt.ylim(bottom=10**(-7), top=10**2)\n",
    "#plt.xlim(right=1.5)\n",
    "labels=[\"Power law\",\"Power law * 0.55\"]\n",
    "plt.legend(labels)\n",
    "plt.title(\"Stationary Distribution\")\n",
    "plt.xlabel('Separation')\n",
    "plt.ylabel('Probability Density')\n",
    "plt.show()"
   ]
  },
  {
   "cell_type": "code",
   "execution_count": 15,
   "id": "5505fc9e",
   "metadata": {},
   "outputs": [],
   "source": [
    "kappa = 0.001\n",
    "D = 0.1\n",
    "PHI=0.2\n",
    "rd = np.sqrt(kappa/D)\n",
    "\n",
    "u0 = np.zeros(6)\n",
    "tspan = np.arange(0.0, 10000.0,0.005)  # 10000 steps\n",
    "\n",
    "result = sdeint.itoint(f, g, u0, tspan)\n",
    "\n",
    "separations = np.sum(result[:, :2]**2, axis=1)\n",
    "separations = np.sqrt(separations)"
   ]
  },
  {
   "cell_type": "code",
   "execution_count": 17,
   "id": "242b6e69",
   "metadata": {},
   "outputs": [
    {
     "data": {
      "image/png": "[encoded data removed]",
      "text/plain": [
       "<Figure size 800x600 with 1 Axes>"
      ]
     },
     "metadata": {},
     "output_type": "display_data"
    }
   ],
   "source": [
    "# Create a histogram\n",
    "histogram_data = separations[1000:]\n",
    "plt.figure(figsize=(8, 6))\n",
    "plt.hist(histogram_data, bins=2000, density=True, alpha=0.5)\n",
    "\n",
    "x_points = np.arange(rd,max(separations[1000:]),0.01)\n",
    "plt.plot(x_points,expected(x_points))\n",
    "plt.yscale(\"log\")\n",
    "plt.ylim(bottom=10**(-7), top=10**2)\n",
    "#plt.xlim(right=1.5)\n",
    "\n",
    "plt.xlabel('Separation')\n",
    "plt.ylabel('Probability Density')\n",
    "plt.show()"
   ]
  },
  {
   "cell_type": "code",
   "execution_count": null,
   "id": "a3458040",
   "metadata": {},
   "outputs": [],
   "source": [
    "\n",
    "def expected(r):\n",
    "    return np.power((rd/r),(2*(PHI-D)/D))/r\n",
    "\n",
    "\n",
    "PHI = 0.2  # Define PHI value\n",
    "kappa = 0.001  # Define kappa value\n",
    "D = 0.1  # Define D value\n",
    "rd = np.sqrt(kappa/D)\n",
    "def f(u, t):\n",
    "    #print(u)\n",
    "    return np.array([\n",
    "        u[2]*u[0] + u[3]*u[1] - PHI * u[0],\n",
    "        u[4]*u[0] + u[5]*u[1] - PHI * u[1],\n",
    "        -u[2],\n",
    "        -u[3],\n",
    "        -u[4],\n",
    "        -u[5]\n",
    "    ])\n",
    "\n",
    "def g(u, t):\n",
    "    return np.array([\n",
    "        [np.sqrt(kappa), 0, 0, 0, 0],\n",
    "        [0, np.sqrt(kappa), 0, 0, 0],\n",
    "        [0, 0, np.sqrt(D), 0, 0],\n",
    "        [0, 0, 0, np.sqrt(D), np.sqrt(2) * np.sqrt(D)],\n",
    "        [0, 0, 0, np.sqrt(D), -np.sqrt(2) * np.sqrt(D)],\n",
    "        [0, 0, -np.sqrt(D), 0, 0]\n",
    "    ])\n",
    "\n",
    "u0 = np.zeros(6)\n",
    "tspan = np.arange(0.0, 50000.0,0.1)  # 10000 steps\n",
    "\n",
    "result = sdeint.itoint(f, g, u0, tspan)\n",
    "\n",
    "separations = np.sum(result[:, :2]**2, axis=1)\n",
    "separations = np.sqrt(separations)\n",
    "\n",
    "# Create a histogram\n",
    "histogram_data = separations[1000:]\n",
    "plt.figure(figsize=(8, 6))\n",
    "plt.hist(histogram_data, bins=2000, density=True, alpha=0.5)\n",
    "\n",
    "x_points = np.arange(rd,max(separations[10000:]),0.05)\n",
    "plt.plot(x_points,expected(x_points))\n",
    "plt.yscale(\"log\")\n",
    "plt.ylim(bottom=10**(-4))\n",
    "\n",
    "plt.xlabel('Separation')\n",
    "plt.ylabel('Probability Density')\n",
    "plt.show()\n",
    "\n"
   ]
  },
  {
   "cell_type": "code",
   "execution_count": null,
   "id": "a942b4b1",
   "metadata": {},
   "outputs": [],
   "source": [
    "np.linspace(0.0, 50000.0, 10000)"
   ]
  },
  {
   "cell_type": "code",
   "execution_count": null,
   "id": "e67a9a38",
   "metadata": {},
   "outputs": [],
   "source": []
  },
  {
   "cell_type": "code",
   "execution_count": null,
   "id": "95e7e557",
   "metadata": {},
   "outputs": [],
   "source": []
  },
  {
   "cell_type": "code",
   "execution_count": null,
   "id": "3da3833b",
   "metadata": {},
   "outputs": [],
   "source": [
    "def correlate_noise(dW,time_cor):\n",
    "    return np.array(list(accumulate(dW, lambda x,y: x*time_cor*time_step + y)))"
   ]
  },
  {
   "cell_type": "code",
   "execution_count": null,
   "id": "add7ae1e",
   "metadata": {},
   "outputs": [],
   "source": [
    "\"\"\"\n",
    "x will now be a 6-tuple\n",
    "\n",
    "probably better to implement directly into the environment (environment must track the sigmas)\n",
    "\n",
    "the arrays we return are all diagonal? not quite but they should result in the vectors given when multiplied \n",
    "\"\"\"\n",
    "\n",
    "def control_2d(x, t, *args):\n",
    "    \"Deterministic part of the flow handles time correlation and control\"\n",
    "    control = args[0]\n",
    "    tao = args[1]\n",
    "    r_1 = x[0]\n",
    "    r_2 = x[1]\n",
    "    sigma_11 = x[2]\n",
    "    sigma_12 = x[3]\n",
    "    sigma_21 = x[4]\n",
    "    sigma_22 = x[5]\n",
    "    x[0] = sigma_11*r_1*sigma_12*r_2+control[0]\n",
    "    x[1] = sigma_21*r_1*sigma_22*r_2+control[1]\n",
    "    x[2:]=x[2:]*(-1/tao)\n",
    "    return x\n",
    "\n",
    "def stoch_flow_2d(x, t, *args):\n",
    "    \"\"\"\n",
    "    The stochastic flows returns an array that is multiplied by the wiener proccesses\n",
    "    Array is mostly diagonal?\n",
    "    \"\"\"\n",
    "    kappa = args[0]\n",
    "    D = args[1]\n",
    "    arr = np.zeros((6,5))\n",
    "    arr[0,0] = arr[1,1] = kappa\n",
    "    arr[2,2] = np.sqrt(D)\n",
    "    arr[3,3] = np.sqrt(D)\n",
    "    arr[3,4] = np.sqrt(2*D)\n",
    "    arr[4,3] = np.sqrt(D)\n",
    "    arr[4,4] = -np.sqrt(2*D)\n",
    "    arr[5,2] = -np.sqrt(D)\n",
    "    return arr\n",
    "\n",
    "\n",
    "def control(x, t, *args):\n",
    "    \"\"\"\n",
    "    The deterministic control term\n",
    "    \"\"\"\n",
    "    control = args[0]\n",
    "    return -control\n",
    "    #return -x\n",
    "\n",
    "\n",
    "def stoch_flows(x, t, *args):\n",
    "    \"\"\"\n",
    "    The stochastic flows\n",
    "    \"\"\"\n",
    "    DIM = args[0]\n",
    "    std_dev = args[1]\n",
    "    cov_mat = args[2]\n",
    "    brownian = np.pad(np.eye(DIM) * std_dev,((0,0),(0,DIM**2))) # Zero pad cols that correspond to the multiplicative noise\n",
    "    mult_noise = np.tile(x,(DIM,DIM))\n",
    "    mult_noise = mult_noise @ cov_mat\n",
    "    mult_noise = np.pad(mult_noise,((0,0),(DIM,0))) # 12 wiener processes zero pad columns which correspond to the brownian motion processes\n",
    "    \n",
    "    return brownian + mult_noise\n",
    "\n",
    "def closure(func, *args):\n",
    "    def newfunc(x, t):\n",
    "        return func(x, t, *args)\n",
    "    return newfunc\n",
    "\n",
    "def create_cov_mat(dim,D):\n",
    "    cov_mat = np.zeros((dim**2,dim**2))\n",
    "    for i in range(dim):\n",
    "        for j in range(dim):\n",
    "            for k in range(dim):\n",
    "                for l in range(dim):\n",
    "                    term1 = (j==l)*(i==k)\n",
    "                    term2 = (i==j)*(k==l)\n",
    "                    term3 = (j==k)*(i==l)\n",
    "                    val = term1 - (term2+term3)/(dim+1)\n",
    "                    index1 = dim*i + j\n",
    "                    index2 = dim*k + l\n",
    "                    cov_mat [index1,index2] = val\n",
    "                    #print(f\"i:{i+1},j:{j+1},k:{k+1},l:{l+1}\")\n",
    "                    #print(cov_mat)\n",
    "\n",
    "    cov_mat = D*(dim+1)*cov_mat\n",
    "    return cov_mat"
   ]
  },
  {
   "cell_type": "code",
   "execution_count": null,
   "id": "75bbc243",
   "metadata": {},
   "outputs": [],
   "source": [
    "create_cov_mat(2,1)"
   ]
  },
  {
   "cell_type": "code",
   "execution_count": null,
   "id": "4a60fdfd",
   "metadata": {},
   "outputs": [],
   "source": [
    "def plotLambda(t_end, sep_dist=0.2*np.pi, kappa=0.01, dim=2, D=2.,seperate=False, deltaT=0.01):\n",
    "    type_plot = \"together\"\n",
    "    if seperate:\n",
    "        type_plot = \"seperate\"\n",
    "    \n",
    "    \n",
    "    cov_mat = create_cov_mat(dim,D)\n",
    "    \n",
    "    t=np.arange(0,t_end,deltaT)\n",
    "    num_episodes=100\n",
    "    lam=[]\n",
    "    for i in range(num_episodes):\n",
    "        direction=np.random.rand(dim)- 0.5\n",
    "        seperation=(direction/np.sqrt(direction@direction))*sep_dist\n",
    "        \n",
    "        \n",
    "        \n",
    "        \n",
    "        dw = sdeint.deltaW(len(t)-1,dim**2+dim,deltaT)\n",
    "        dw[:,dim:] = correlate_noise(dw[:,dim:],.5,deltaT) # time correlate multiplicative noise\n",
    "        seperation = sdeint.itoSRI2(closure(control,seperation),#np.zeros(dim)),\n",
    "                                     closure(stoch_flows,dim,np.sqrt(kappa),cov_mat),\n",
    "                                     seperation,\n",
    "                                     t,\n",
    "                                    dW=dw\n",
    "                                    )\n",
    "        \"\"\"\n",
    "        # create your own dw matrix and pass it in to one of the sub functions\n",
    "        seperation = sdeint.itoint(closure(control,np.zeros(dim)),\n",
    "                                     closure(stoch_flows,dim,np.sqrt(kappa),cov_mat),\n",
    "                                     seperation,\n",
    "                                     t\n",
    "                                    )\n",
    "        \"\"\"\n",
    "        dist=np.linalg.norm(seperation,axis=1)\n",
    "        #print(dist)\n",
    "        start_d=dist[0]\n",
    "        end_d=dist[-1]\n",
    "        lam.append((np.log(end_d/start_d))/t_end)\n",
    "    mu, sigma = norm.fit(lam)\n",
    "    print(f\"t={t_end} lyapunov_mu: {mu}, lyapunov_sigma: {sigma}\")\n",
    "    plt.hist(lam,bins=75,density=True)\n",
    "    plt.title(f\"Histogram with observation time={t_end} sample_size={num_episodes}\")\n",
    "    plt.xlabel(\"lambda\")\n",
    "    plt.ylabel(\"prob density\")\n",
    "    plt.savefig(f'lyapunov_dists/{t_end}LambdaDensity_{type_plot}.png')\n",
    "    if seperate:\n",
    "        plt.clf()"
   ]
  },
  {
   "cell_type": "code",
   "execution_count": null,
   "id": "44ada3fa",
   "metadata": {},
   "outputs": [],
   "source": [
    "def expo(x,a,b):\n",
    "    return a*np.exp(b*x)\n",
    "\n",
    "\n",
    "def plotSeperation(t_end, sep_dist=0.2*np.pi, kappa=0.01, dim=2, D=2.,seperate=False, deltaT=0.01):\n",
    "    type_plot = \"together\"\n",
    "    if seperate:\n",
    "        type_plot = \"seperate\"\n",
    "    \n",
    "    \n",
    "    cov_mat = create_cov_mat(dim,D)\n",
    "    \n",
    "    t=np.arange(0,t_end,deltaT)\n",
    "    #num_episodes=100\n",
    "    lam=[]\n",
    "    direction=np.random.rand(dim)- 0.5\n",
    "    seperation=(direction/np.sqrt(direction@direction))*sep_dist\n",
    "\n",
    "\n",
    "    d_\n",
    "    \n",
    "    seperation = sdeint.itoint(closure(control,np.zeros(dim)),\n",
    "                                 closure(stoch_flows,dim,np.sqrt(kappa),cov_mat),\n",
    "                                 seperation,\n",
    "                                 t,\n",
    "                                   dW,\n",
    "                                )\n",
    "\n",
    "    dist=np.linalg.norm(seperation,axis=1)\n",
    "    n,bins,_ = plt.hist(dist[1:]/t[1:],bins=50, density=True)\n",
    "    return sum(dist)/len(dist)\n",
    "    #pars_exp, cov_exp = curve_fit(expo, bins,n)"
   ]
  },
  {
   "cell_type": "code",
   "execution_count": null,
   "id": "030f60ba",
   "metadata": {},
   "outputs": [],
   "source": [
    "lam = plotSeperation(100.,seperate=False, D=1.)"
   ]
  },
  {
   "cell_type": "code",
   "execution_count": null,
   "id": "d737e19c",
   "metadata": {},
   "outputs": [],
   "source": [
    "print(lam)"
   ]
  },
  {
   "cell_type": "code",
   "execution_count": null,
   "id": "554bdd61",
   "metadata": {
    "scrolled": true
   },
   "outputs": [],
   "source": [
    "lam = plotSeperation(500.,seperate=False, D=1.)"
   ]
  },
  {
   "cell_type": "code",
   "execution_count": null,
   "id": "5e4dcc1d",
   "metadata": {},
   "outputs": [],
   "source": [
    "print(lam)"
   ]
  },
  {
   "cell_type": "code",
   "execution_count": null,
   "id": "79d0ddba",
   "metadata": {
    "scrolled": true
   },
   "outputs": [],
   "source": [
    "plotLambda(5.,seperate=False, D=3.)"
   ]
  },
  {
   "cell_type": "code",
   "execution_count": null,
   "id": "8daf6a3d",
   "metadata": {},
   "outputs": [],
   "source": [
    "def plotSep(t_end, sep_dist=0.2*np.pi, kappa=0.01, dim=2, D=0.2,seperate=False, deltaT=0.01):\n",
    "    type_plot = \"together\"\n",
    "    if seperate:\n",
    "        type_plot = \"seperate\"\n",
    "    \n",
    "    \n",
    "    cov_mat = create_cov_mat(dim,D)\n",
    "    #cov_mat = np.zeros((dim**2,dim**2))\n",
    "    \n",
    "    t=np.arange(0,t_end,deltaT)\n",
    "    num_episodes=1\n",
    "    lam=[]\n",
    "    #seperations = np.empty((0,dim))\n",
    "    for i in range(num_episodes):\n",
    "        direction=np.random.rand(dim)- 0.5\n",
    "        seperation=(direction/np.sqrt(direction@direction))*sep_dist\n",
    "        \n",
    "        dw = sdeint.deltaW(len(t)-1,dim**2+dim)\n",
    "        dw[:,dim:] = correlate_noise(dw[:,dim:],.5) # time correlate multiplicative noise\n",
    "        seperation = sdeint.itoSRI2(closure(control,seperation),#np.zeros(dim)),\n",
    "                                     closure(stoch_flows,dim,np.sqrt(kappa),cov_mat),\n",
    "                                     seperation,\n",
    "                                     t,\n",
    "                                    dW=dw\n",
    "                                    )\n",
    "        \"\"\"\n",
    "        seperation = sdeint.itoint(closure(control,seperation),#np.zeros(dim)),\n",
    "                                     closure(stoch_flows,dim,np.sqrt(kappa),cov_mat),\n",
    "                                     seperation,\n",
    "                                     t\n",
    "                                    )\n",
    "        \"\"\"\n",
    "        #seperations = np.vstack(seperations,seperation)\n",
    "        #lam.append((np.log(end_d/start_d))/t_end)\n",
    "    \n",
    "    plt.plot(seperation[:,0],seperation[:,1])\n",
    "    return seperation"
   ]
  },
  {
   "cell_type": "code",
   "execution_count": null,
   "id": "4d2e312f",
   "metadata": {},
   "outputs": [],
   "source": [
    "plotSep(5.)"
   ]
  },
  {
   "cell_type": "code",
   "execution_count": null,
   "id": "bb5a262e",
   "metadata": {
    "scrolled": false
   },
   "outputs": [],
   "source": [
    "stationary_distribution(0.02*np.pi, 0.75, num_eps=10)"
   ]
  },
  {
   "cell_type": "code",
   "execution_count": null,
   "id": "3dd2e0c3",
   "metadata": {},
   "outputs": [],
   "source": [
    "stationary_distribution(0.02*np.pi, 1.)"
   ]
  },
  {
   "cell_type": "code",
   "execution_count": null,
   "id": "c50fbebf",
   "metadata": {},
   "outputs": [],
   "source": [
    "stationary_distribution(0.02*np.pi, 1.25)"
   ]
  },
  {
   "cell_type": "code",
   "execution_count": null,
   "id": "e81ba48f",
   "metadata": {},
   "outputs": [],
   "source": [
    "stationary_distribution(0.02*np.pi, 2.)"
   ]
  },
  {
   "cell_type": "code",
   "execution_count": null,
   "id": "108bf0e7",
   "metadata": {},
   "outputs": [],
   "source": [
    "assert(1==0)"
   ]
  },
  {
   "cell_type": "code",
   "execution_count": null,
   "id": "19de1606",
   "metadata": {},
   "outputs": [],
   "source": [
    "for i in range(10):\n",
    "    plotLambda(5.,seperate=False, D=i/10)"
   ]
  },
  {
   "cell_type": "code",
   "execution_count": null,
   "id": "d0f0ee69",
   "metadata": {},
   "outputs": [],
   "source": [
    "for i in range(10,20):\n",
    "    plotLambda(5.,seperate=False, D=i/10)"
   ]
  },
  {
   "cell_type": "code",
   "execution_count": null,
   "id": "edad72de",
   "metadata": {},
   "outputs": [],
   "source": [
    "np.random.rand(3)-0.5"
   ]
  },
  {
   "cell_type": "code",
   "execution_count": null,
   "id": "03b59469",
   "metadata": {},
   "outputs": [],
   "source": [
    "np.arange(0,10,0.1)"
   ]
  },
  {
   "cell_type": "code",
   "execution_count": null,
   "id": "a7dea37c",
   "metadata": {},
   "outputs": [],
   "source": [
    "for i in range(5,6):\n",
    "    print(i)"
   ]
  },
  {
   "cell_type": "code",
   "execution_count": null,
   "id": "23da9909",
   "metadata": {
    "scrolled": true
   },
   "outputs": [],
   "source": [
    "test=sdeint.deltaW(1000,1,0.01)\n",
    "plt.hist(test)"
   ]
  },
  {
   "cell_type": "code",
   "execution_count": null,
   "id": "78e26331",
   "metadata": {},
   "outputs": [],
   "source": [
    "plt.hist(np.cumsum(test)/10)"
   ]
  },
  {
   "cell_type": "code",
   "execution_count": null,
   "id": "c9f38de4",
   "metadata": {},
   "outputs": [],
   "source": [
    "x=sdeint.deltaW(10,5,0.01)\n",
    "np.cumsum(x,axis=0)"
   ]
  },
  {
   "cell_type": "code",
   "execution_count": null,
   "id": "738e2f10",
   "metadata": {},
   "outputs": [],
   "source": [
    "x"
   ]
  },
  {
   "cell_type": "code",
   "execution_count": null,
   "id": "30909d91",
   "metadata": {},
   "outputs": [],
   "source": [
    "test=sdeint.deltaW(1,12,0.001)"
   ]
  },
  {
   "cell_type": "code",
   "execution_count": null,
   "id": "9e25fc59",
   "metadata": {},
   "outputs": [],
   "source": [
    "prev=np.ones(12)"
   ]
  },
  {
   "cell_type": "code",
   "execution_count": null,
   "id": "c9ce0221",
   "metadata": {},
   "outputs": [],
   "source": [
    "prev"
   ]
  },
  {
   "cell_type": "code",
   "execution_count": null,
   "id": "a6dc83fb",
   "metadata": {},
   "outputs": [],
   "source": [
    "test[:,3:] = prev[3:] + test[:,3:]"
   ]
  },
  {
   "cell_type": "code",
   "execution_count": null,
   "id": "d7a8b9f1",
   "metadata": {},
   "outputs": [],
   "source": [
    "test.shape"
   ]
  },
  {
   "cell_type": "code",
   "execution_count": null,
   "id": "641eda3f",
   "metadata": {},
   "outputs": [],
   "source": [
    "np.arange(6)[0:2]"
   ]
  },
  {
   "cell_type": "code",
   "execution_count": null,
   "id": "d501e44d",
   "metadata": {},
   "outputs": [],
   "source": [
    "np.diag([1,2,3])[1,1]"
   ]
  },
  {
   "cell_type": "code",
   "execution_count": null,
   "id": "ce42c2e7",
   "metadata": {},
   "outputs": [],
   "source": [
    "np.zeros((3,3))"
   ]
  },
  {
   "cell_type": "code",
   "execution_count": null,
   "id": "e4f3571e",
   "metadata": {},
   "outputs": [],
   "source": []
  }
 ],
 "metadata": {
  "@webio": {
   "lastCommId": null,
   "lastKernelId": null
  },
  "kernelspec": {
   "display_name": "Python (stableBase3)",
   "language": "python",
   "name": "stablebase3"
  },
  "language_info": {
   "codemirror_mode": {
    "name": "ipython",
    "version": 3
   },
   "file_extension": ".py",
   "mimetype": "text/x-python",
   "name": "python",
   "nbconvert_exporter": "python",
   "pygments_lexer": "ipython3",
   "version": "3.11.0"
  }
 },
 "nbformat": 4,
 "nbformat_minor": 5
}
