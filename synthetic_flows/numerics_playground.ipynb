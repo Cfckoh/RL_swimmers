{
 "cells": [
  {
   "cell_type": "code",
   "execution_count": null,
   "id": "a4155ce4",
   "metadata": {},
   "outputs": [],
   "source": [
    "#TODOS make env object that uses julia solver\n",
    "# details to figure out\n",
    "# - how to set params inside julia (make sure changes to globals are persistent)\n",
    "#   - apparently it's not so you'll need to figure out how to pass these params properly\n",
    "# - check that discount across environment steps is consistent (e^-nu*(env_step_size))\n",
    "# - verify the env with lots of runs (how to do this exactly call julia )"
   ]
  },
  {
   "cell_type": "code",
   "execution_count": 59,
   "id": "7dd29773",
   "metadata": {},
   "outputs": [],
   "source": [
    "import julia\n",
    "jl = julia.Julia(compiled_modules=False)\n",
    "from julia import Main"
   ]
  },
  {
   "cell_type": "code",
   "execution_count": 60,
   "id": "25031d2d",
   "metadata": {},
   "outputs": [],
   "source": [
    "import time"
   ]
  },
  {
   "cell_type": "code",
   "execution_count": 87,
   "id": "bb3dffe0",
   "metadata": {},
   "outputs": [],
   "source": [
    "kappa = 0.001\n",
    "BETA = 0.1\n",
    "D = 0.1\n",
    "PHI = 2*D+np.sqrt(BETA+4*D**2)#0.7#1.2\n",
    "NU = 0.99"
   ]
  },
  {
   "cell_type": "code",
   "execution_count": 96,
   "id": "953945b6",
   "metadata": {},
   "outputs": [
    {
     "data": {
      "text/plain": [
       "<PyCall.jlwrap envStep>"
      ]
     },
     "execution_count": 96,
     "metadata": {},
     "output_type": "execute_result"
    }
   ],
   "source": [
    "Main.xs = [1, 2, 3]\n",
    "Main.eval(\"sin.(xs)\")\n",
    "Main.include(\"juliaScript.jl\")\n",
    "#Main.eval(\"helloWorld()\")"
   ]
  },
  {
   "cell_type": "code",
   "execution_count": 98,
   "id": "693b6868",
   "metadata": {},
   "outputs": [
    {
     "name": "stdout",
     "output_type": "stream",
     "text": [
      "0.2\n",
      "0.2\n",
      "0.2\n",
      "0.2\n",
      "0.2\n",
      "0.2\n",
      "0.2\n",
      "0.2\n",
      "0.2\n",
      "0.2\n",
      "0.2\n",
      "0.2\n",
      "0.2\n",
      "0.2\n",
      "0.2\n",
      "0.2\n",
      "0.2\n",
      "0.2\n",
      "0.2\n",
      "0.2\n",
      "0.2\n",
      "0.2\n",
      "0.2\n",
      "0.2\n",
      "0.2\n",
      "0.2\n",
      "0.2\n",
      "0.2\n",
      "0.2\n",
      "0.2\n",
      "0.2\n",
      "0.2\n",
      "0.2\n",
      "0.2\n",
      "0.2\n",
      "0.2\n",
      "0.2\n",
      "0.2\n",
      "0.2\n",
      "0.2\n",
      "0.2\n",
      "0.2\n",
      "0.2\n",
      "0.2\n",
      "0.2\n",
      "0.2\n",
      "0.2\n",
      "0.2\n",
      "0.2\n",
      "0.2\n",
      "0.2\n",
      "0.2\n",
      "0.2\n",
      "0.2\n",
      "0.2\n",
      "0.2\n",
      "0.2\n",
      "0.2\n",
      "0.2\n",
      "0.2\n",
      "0.2\n",
      "0.2\n",
      "0.2\n",
      "0.2\n",
      "0.2\n",
      "0.2\n",
      "0.2\n",
      "0.2\n",
      "0.2\n",
      "0.2\n",
      "0.2\n",
      "0.2\n",
      "0.2\n",
      "0.2\n",
      "0.2\n",
      "0.2\n",
      "0.2\n",
      "0.2\n",
      "0.2\n",
      "0.2\n",
      "0.2\n",
      "0.2\n",
      "0.2\n",
      "0.2\n",
      "0.2\n",
      "0.2\n",
      "0.2\n",
      "0.2\n",
      "0.2\n",
      "0.2\n",
      "0.2\n",
      "0.2\n",
      "0.2\n",
      "0.2\n",
      "0.2\n",
      "0.2\n",
      "0.2\n",
      "0.2\n",
      "0.2\n",
      "0.2\n",
      "0.2\n",
      "0.2\n",
      "0.2\n",
      "0.2\n",
      "0.2\n",
      "0.2\n",
      "0.2\n",
      "0.2\n",
      "0.2\n",
      "0.2\n",
      "0.2\n",
      "0.2\n",
      "0.2\n",
      "0.2\n",
      "0.2\n",
      "0.2\n",
      "0.2\n",
      "0.2\n",
      "0.2\n",
      "0.2\n",
      "0.2\n",
      "0.2\n",
      "0.2\n",
      "0.2\n",
      "0.2\n",
      "0.2\n",
      "0.2\n",
      "0.2\n",
      "0.2\n",
      "0.2\n",
      "0.2\n",
      "0.2\n",
      "0.2\n",
      "0.2\n",
      "0.2\n",
      "0.2\n",
      "0.2\n",
      "0.2\n",
      "0.2\n",
      "0.2\n",
      "0.2\n",
      "0.2\n",
      "0.2\n",
      "0.2\n",
      "0.2\n",
      "0.2\n",
      "0.2\n",
      "0.2\n",
      "0.2\n",
      "0.2\n",
      "0.2\n",
      "0.2\n",
      "0.2\n",
      "0.2\n",
      "0.2\n",
      "0.2\n",
      "0.2\n",
      "0.2\n",
      "0.2\n",
      "0.2\n",
      "0.2\n",
      "0.2\n",
      "0.2\n",
      "0.2\n",
      "0.2\n",
      "0.2\n",
      "0.2\n",
      "0.2\n",
      "0.2\n",
      "0.2\n",
      "0.2\n",
      "0.2\n",
      "0.2\n",
      "0.2\n",
      "0.2\n",
      "0.2\n",
      "0.2\n",
      "0.2\n",
      "0.2\n",
      "0.2\n",
      "0.2\n",
      "0.2\n",
      "0.2\n",
      "0.2\n",
      "0.2\n",
      "0.2\n",
      "0.2\n",
      "0.2\n",
      "0.2\n",
      "0.2\n",
      "0.2\n",
      "0.2\n",
      "0.2\n",
      "0.2\n",
      "0.2\n",
      "0.2\n",
      "0.2\n",
      "0.2\n",
      "0.2\n",
      "0.2\n"
     ]
    },
    {
     "data": {
      "text/plain": [
       "0.0049936771392822266"
      ]
     },
     "execution_count": 98,
     "metadata": {},
     "output_type": "execute_result"
    }
   ],
   "source": [
    "u0=np.zeros(6)\n",
    "loc = np.array2string(u0, separator=\",\")\n",
    "start = time.time()\n",
    "u_new,penalty = Main.eval(f\"envStep({kappa}, {BETA}, {D}, {PHI}, {NU},{loc},1.)\")\n",
    "end = time.time()\n",
    "end-start"
   ]
  },
  {
   "cell_type": "code",
   "execution_count": 45,
   "id": "a57caae1",
   "metadata": {},
   "outputs": [
    {
     "data": {
      "text/plain": [
       "0.005311489105224609"
      ]
     },
     "execution_count": 45,
     "metadata": {},
     "output_type": "execute_result"
    }
   ],
   "source": [
    "start = time.time()\n",
    "loc = np.array2string(u_new, separator=\",\")\n",
    "u_new,penalty = Main.eval(f\"envStep(0.5,{loc},1.)\")\n",
    "end = time.time()\n",
    "end-start"
   ]
  },
  {
   "cell_type": "code",
   "execution_count": 40,
   "id": "46a4eaf4",
   "metadata": {},
   "outputs": [
    {
     "data": {
      "text/plain": [
       "'[0.,0.,0.,0.,0.,0.]'"
      ]
     },
     "execution_count": 40,
     "metadata": {},
     "output_type": "execute_result"
    }
   ],
   "source": [
    "np.array2string(np.zeros(6), separator=\",\")"
   ]
  },
  {
   "cell_type": "code",
   "execution_count": 14,
   "id": "1e5f4c1d",
   "metadata": {},
   "outputs": [
    {
     "data": {
      "text/plain": [
       "array([[ 0.00000000e+00,  1.42561928e-03,  3.51225956e-04, ...,\n",
       "        -2.59398208e-03,  2.19019251e-04, -8.06107769e-04],\n",
       "       [ 0.00000000e+00,  1.70797811e-05, -2.13292755e-03, ...,\n",
       "         1.51217458e-02,  1.34861243e-02,  1.11173161e-02],\n",
       "       [ 0.00000000e+00, -1.20205671e-02, -8.35756401e-03, ...,\n",
       "         1.93549040e-01,  1.85147238e-01,  2.09788656e-01],\n",
       "       [ 0.00000000e+00,  4.37356163e-02,  1.03682498e-01, ...,\n",
       "        -1.77824951e-01, -1.41526248e-01, -1.89705977e-01],\n",
       "       [ 0.00000000e+00,  1.20875809e-02,  5.11622853e-03, ...,\n",
       "         1.13476351e-01,  6.53659801e-02,  4.25220043e-02],\n",
       "       [ 0.00000000e+00,  1.20205671e-02,  8.35756401e-03, ...,\n",
       "        -1.93549040e-01, -1.85147238e-01, -2.09788656e-01]])"
      ]
     },
     "execution_count": 14,
     "metadata": {},
     "output_type": "execute_result"
    }
   ],
   "source": [
    "Main.eval(\"envStep()\")"
   ]
  },
  {
   "cell_type": "code",
   "execution_count": null,
   "id": "7864aba9",
   "metadata": {},
   "outputs": [],
   "source": [
    "assert(1==0)"
   ]
  },
  {
   "cell_type": "code",
   "execution_count": 7,
   "id": "5d208942",
   "metadata": {},
   "outputs": [],
   "source": [
    "import sdeint\n",
    "import numpy as np\n",
    "#import random as rand\n",
    "import matplotlib.pyplot as plt\n",
    "#from itertools import accumulate\n",
    "from scipy.optimize import curve_fit\n",
    "from synthetic_env import synthetic_env\n",
    "from naive_agents import DoNothing, FixedPhi"
   ]
  },
  {
   "cell_type": "code",
   "execution_count": 8,
   "id": "a1449554",
   "metadata": {},
   "outputs": [],
   "source": [
    "def f(u, t):\n",
    "    #print(u)\n",
    "    return np.array([\n",
    "        u[2]*u[0] + u[3]*u[1] - PHI * u[0],\n",
    "        u[4]*u[0] + u[5]*u[1] - PHI * u[1],\n",
    "        -u[2],\n",
    "        -u[3],\n",
    "        -u[4],\n",
    "        -u[5]\n",
    "    ])\n",
    "\n",
    "def g(u, t):\n",
    "    return np.array([\n",
    "        [np.sqrt(kappa), 0, 0, 0, 0],\n",
    "        [0, np.sqrt(kappa), 0, 0, 0],\n",
    "        [0, 0, np.sqrt(D), 0, 0],\n",
    "        [0, 0, 0, np.sqrt(D), np.sqrt(2) * np.sqrt(D)],\n",
    "        [0, 0, 0, np.sqrt(D), -np.sqrt(2) * np.sqrt(D)],\n",
    "        [0, 0, -np.sqrt(D), 0, 0]\n",
    "    ])\n",
    "\n",
    "\n",
    "kappa = 0.001\n",
    "BETA = 0.1\n",
    "D=0.1\n",
    "PHI=2*D+np.sqrt(BETA+4*D**2)#0.7#1.2"
   ]
  },
  {
   "cell_type": "code",
   "execution_count": 9,
   "id": "5cb0f5ac",
   "metadata": {},
   "outputs": [
    {
     "data": {
      "text/plain": [
       "28.54189443588257"
      ]
     },
     "execution_count": 9,
     "metadata": {},
     "output_type": "execute_result"
    }
   ],
   "source": [
    "# Run the SDEs \n",
    "u0 = np.zeros(6)\n",
    "tspan = np.arange(0.0, 1000.0,0.005)  # 10000 time units\n",
    "\n",
    "start = time.time()\n",
    "result = sdeint.itoint(f, g, u0, tspan)\n",
    "\n",
    "separations = np.sum(result[:, :2]**2, axis=1)\n",
    "separations = np.sqrt(separations)\n",
    "end = time.time()\n",
    "end-start"
   ]
  },
  {
   "cell_type": "code",
   "execution_count": 23,
   "id": "2e66115f",
   "metadata": {},
   "outputs": [
    {
     "data": {
      "text/plain": [
       "0.037392616271972656"
      ]
     },
     "execution_count": 23,
     "metadata": {},
     "output_type": "execute_result"
    }
   ],
   "source": [
    "# Run the SDEs \n",
    "u0 = np.zeros(6)\n",
    "tspan = np.arange(0.0, 1.0,0.005)  # 10000 time units\n",
    "\n",
    "start = time.time()\n",
    "result = sdeint.itoint(f, g, u0, tspan)\n",
    "\n",
    "separations = np.sum(result[:, :2]**2, axis=1)\n",
    "separations = np.sqrt(separations)\n",
    "end = time.time()\n",
    "end-start"
   ]
  },
  {
   "cell_type": "code",
   "execution_count": null,
   "id": "2a8f50f9",
   "metadata": {},
   "outputs": [],
   "source": []
  },
  {
   "cell_type": "code",
   "execution_count": null,
   "id": "e24b189b",
   "metadata": {},
   "outputs": [],
   "source": []
  },
  {
   "cell_type": "code",
   "execution_count": null,
   "id": "85285e7d",
   "metadata": {},
   "outputs": [],
   "source": []
  },
  {
   "cell_type": "code",
   "execution_count": 1,
   "id": "98ba4ced",
   "metadata": {},
   "outputs": [],
   "source": [
    "import time\n",
    "from call_julia_class_test import Test_Solver"
   ]
  },
  {
   "cell_type": "code",
   "execution_count": 2,
   "id": "4a2b7c2c",
   "metadata": {},
   "outputs": [
    {
     "data": {
      "text/plain": [
       "18.584166288375854"
      ]
     },
     "execution_count": 2,
     "metadata": {},
     "output_type": "execute_result"
    }
   ],
   "source": [
    "start = time.time()\n",
    "x = Test_Solver()\n",
    "end = time.time()\n",
    "end-start"
   ]
  },
  {
   "cell_type": "code",
   "execution_count": 3,
   "id": "7313d1a5",
   "metadata": {},
   "outputs": [],
   "source": [
    "y = Test_Solver()"
   ]
  },
  {
   "cell_type": "code",
   "execution_count": 6,
   "id": "fa7b3e36",
   "metadata": {},
   "outputs": [],
   "source": [
    "state,penalty = x.solve_flow(0.1)"
   ]
  },
  {
   "cell_type": "code",
   "execution_count": 8,
   "id": "d32aff82",
   "metadata": {},
   "outputs": [
    {
     "data": {
      "text/plain": [
       "numpy.ndarray"
      ]
     },
     "execution_count": 8,
     "metadata": {},
     "output_type": "execute_result"
    }
   ],
   "source": [
    "type(state)"
   ]
  },
  {
   "cell_type": "code",
   "execution_count": 5,
   "id": "7e7a97a2",
   "metadata": {},
   "outputs": [
    {
     "data": {
      "text/plain": [
       "(array([ 0.0162689 , -0.00921762, -0.32855211, -0.38507772,  0.3229145 ,\n",
       "         0.32855211]),\n",
       " 0.0010260361687719568)"
      ]
     },
     "execution_count": 5,
     "metadata": {},
     "output_type": "execute_result"
    }
   ],
   "source": [
    "y.solve_flow(10.2)"
   ]
  },
  {
   "cell_type": "code",
   "execution_count": null,
   "id": "501e2a0e",
   "metadata": {},
   "outputs": [],
   "source": []
  }
 ],
 "metadata": {
  "@webio": {
   "lastCommId": null,
   "lastKernelId": null
  },
  "kernelspec": {
   "display_name": "Python (stableBase3)",
   "language": "python",
   "name": "stablebase3"
  },
  "language_info": {
   "codemirror_mode": {
    "name": "ipython",
    "version": 3
   },
   "file_extension": ".py",
   "mimetype": "text/x-python",
   "name": "python",
   "nbconvert_exporter": "python",
   "pygments_lexer": "ipython3",
   "version": "3.11.0"
  }
 },
 "nbformat": 4,
 "nbformat_minor": 5
}
