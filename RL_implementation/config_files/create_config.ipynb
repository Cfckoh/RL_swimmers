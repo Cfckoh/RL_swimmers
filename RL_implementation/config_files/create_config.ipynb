{
 "cells": [
  {
   "cell_type": "code",
   "execution_count": 6,
   "id": "751d6e74",
   "metadata": {},
   "outputs": [],
   "source": [
    "import yaml\n",
    "import os\n",
    "import numpy as np"
   ]
  },
  {
   "cell_type": "code",
   "execution_count": 14,
   "id": "ded312cc",
   "metadata": {},
   "outputs": [
    {
     "name": "stdout",
     "output_type": "stream",
     "text": [
      "CONFIG CREATED\n"
     ]
    }
   ],
   "source": [
    "#ABC config creater\n",
    "\n",
    "name = \"default_config_abc\"\n",
    "params = {\n",
    "\"A\" : 1.,\n",
    "\"B\" : 0.7,\n",
    "\"C\" : 0.43,\n",
    "\"NU\" : 0.99,\n",
    "\"kappa\" : 0.001,\n",
    "\"BETA\" : 0.1,\n",
    "\"PHI\" : 1.1,\n",
    "\"D\" : 0.1,\n",
    "\"delta_t\" : 0.05,\n",
    "\"t_end\" : 10.,\n",
    "\"num_eps\": 250,\n",
    "\"verbose_episodes\": 100, #  prints extra data when training every verbose_episodes number of episodes\n",
    "\"start_sep\": np.pi*0.2\n",
    "}\n",
    "\n",
    "\n",
    "\n",
    "if os.path.isfile(f'{name}.yaml'):\n",
    "    print(\"CONFIG WITH THIS NAME ALREADY EXISTS\")\n",
    "else:\n",
    "    print(\"CONFIG CREATED\")\n",
    "    with open(f'{name}.yaml', 'w') as outfile:\n",
    "        yaml.dump(params, outfile, default_flow_style=False)"
   ]
  },
  {
   "cell_type": "code",
   "execution_count": 15,
   "id": "5da2efbb",
   "metadata": {},
   "outputs": [
    {
     "name": "stdout",
     "output_type": "stream",
     "text": [
      "CONFIG CREATED\n"
     ]
    }
   ],
   "source": [
    "#Synthetic Flows config creater\n",
    "\n",
    "name = \"default_config_synth\"\n",
    "params = {\n",
    "\"NU\" : 0.99,\n",
    "\"kappa\" : 0.001,\n",
    "\"BETA\" : 0.1,\n",
    "\"PHI\" : 0.574,\n",
    "\"D\" : 0.1,\n",
    "\"delta_t\" : 0.05,\n",
    "\"t_end\" : 10.,\n",
    "\"num_eps\": 250,\n",
    "\"verbose_episodes\": 100, #  prints extra data when training every verbose_episodes number of episodes\n",
    "\"start_sep\": np.pi*0.2\n",
    "}\n",
    "\n",
    "\n",
    "\n",
    "if os.path.isfile(f'{name}.yaml'):\n",
    "    print(\"CONFIG WITH THIS NAME ALREADY EXISTS\")\n",
    "else:\n",
    "    print(\"CONFIG CREATED\")\n",
    "    with open(f'{name}.yaml', 'w') as outfile:\n",
    "        yaml.dump(params, outfile, default_flow_style=False)"
   ]
  },
  {
   "cell_type": "code",
   "execution_count": 19,
   "id": "ea906009",
   "metadata": {},
   "outputs": [],
   "source": [
    "save_list = {\n",
    "\"setA\": [1,2,3,4],\n",
    "\"notSet\": 2\n",
    "}\n",
    "\n",
    "with open(f'list.yaml', 'w') as outfile:\n",
    "        yaml.dump(save_list, outfile, default_flow_style=False)"
   ]
  },
  {
   "cell_type": "code",
   "execution_count": 20,
   "id": "6da3616d",
   "metadata": {},
   "outputs": [],
   "source": [
    "with open(f\"list.yaml\") as cf_file:\n",
    "        config = yaml.safe_load( cf_file.read() )"
   ]
  },
  {
   "cell_type": "code",
   "execution_count": 21,
   "id": "45674553",
   "metadata": {},
   "outputs": [
    {
     "data": {
      "text/plain": [
       "{'notSet': 2, 'setA': [1, 2, 3, 4]}"
      ]
     },
     "execution_count": 21,
     "metadata": {},
     "output_type": "execute_result"
    }
   ],
   "source": [
    "config"
   ]
  },
  {
   "cell_type": "code",
   "execution_count": null,
   "id": "010cddf3",
   "metadata": {},
   "outputs": [],
   "source": []
  }
 ],
 "metadata": {
  "@webio": {
   "lastCommId": null,
   "lastKernelId": null
  },
  "kernelspec": {
   "display_name": "Python 3 (ipykernel)",
   "language": "python",
   "name": "python3"
  },
  "language_info": {
   "codemirror_mode": {
    "name": "ipython",
    "version": 3
   },
   "file_extension": ".py",
   "mimetype": "text/x-python",
   "name": "python",
   "nbconvert_exporter": "python",
   "pygments_lexer": "ipython3",
   "version": "3.9.12"
  }
 },
 "nbformat": 4,
 "nbformat_minor": 5
}
