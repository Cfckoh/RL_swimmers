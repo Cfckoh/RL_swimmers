{
 "cells": [
  {
   "cell_type": "code",
   "execution_count": 1,
   "id": "0feb53b7",
   "metadata": {},
   "outputs": [],
   "source": [
    "import numpy as np\n",
    "import csv\n",
    "import matplotlib.pyplot as plt"
   ]
  },
  {
   "cell_type": "code",
   "execution_count": null,
   "id": "0997dbce",
   "metadata": {},
   "outputs": [],
   "source": [
    "# load dictionary into csv\n",
    "csv_name = \"????\"\n",
    "with open(csv_name) as csv_file:\n",
    "    reader = csv.reader(csv_file)\n",
    "    dictionary = dict(reader)\n",
    "\n",
    "# based off name and size get proper size of matrices and ranges for figures\n",
    "# read into np arrays\n",
    "# plot comparisons (will need the baseline evaluation function)"
   ]
  },
  {
   "cell_type": "code",
   "execution_count": 5,
   "id": "c3b2a668",
   "metadata": {},
   "outputs": [
    {
     "name": "stdout",
     "output_type": "stream",
     "text": [
      "The history saving thread hit an unexpected error (OperationalError('database is locked')).History will not be written to the database."
     ]
    },
    {
     "data": {
      "text/plain": [
       "0.9950622310604282"
      ]
     },
     "execution_count": 5,
     "metadata": {},
     "output_type": "execute_result"
    },
    {
     "name": "stdout",
     "output_type": "stream",
     "text": [
      "\n"
     ]
    }
   ],
   "source": [
    "np.exp(-0.99*0.005)"
   ]
  },
  {
   "cell_type": "code",
   "execution_count": null,
   "id": "388a3b50",
   "metadata": {},
   "outputs": [],
   "source": []
  }
 ],
 "metadata": {
  "kernelspec": {
   "display_name": "Python (stableBase3)",
   "language": "python",
   "name": "stablebase3"
  },
  "language_info": {
   "codemirror_mode": {
    "name": "ipython",
    "version": 3
   },
   "file_extension": ".py",
   "mimetype": "text/x-python",
   "name": "python",
   "nbconvert_exporter": "python",
   "pygments_lexer": "ipython3",
   "version": "3.11.0"
  }
 },
 "nbformat": 4,
 "nbformat_minor": 5
}
