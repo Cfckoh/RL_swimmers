{
 "cells": [
  {
   "cell_type": "code",
   "execution_count": 5,
   "id": "751d6e74",
   "metadata": {},
   "outputs": [],
   "source": [
    "import yaml\n",
    "import os"
   ]
  },
  {
   "cell_type": "code",
   "execution_count": 6,
   "id": "ded312cc",
   "metadata": {},
   "outputs": [
    {
     "name": "stdout",
     "output_type": "stream",
     "text": [
      "CONFIG CREATED\n"
     ]
    }
   ],
   "source": [
    "#ABC config creater\n",
    "\n",
    "name = \"small_test\"\n",
    "params = {\n",
    "\"A\" : 1.,\n",
    "\"B\" : 0.7,\n",
    "\"C\" : 0.43,\n",
    "\"NU\" : 0.99,\n",
    "\"kappa\" : 0.001,\n",
    "\"BETA\" : 0.1,\n",
    "\"PHI\" : 0.9,\n",
    "\"D\" : 0.1,\n",
    "\"delta_t\" : 0.05,\n",
    "\"delta_r\": 0.001,\n",
    "\"t_end\" : 10.,\n",
    "\"num_eps\": 50\n",
    "}\n",
    "\n",
    "\n",
    "\n",
    "if os.path.isfile(f'{name}.yaml'):\n",
    "    print(\"CONFIG WITH THIS NAME ALREADY EXISTS\")\n",
    "else:\n",
    "    print(\"CONFIG CREATED\")\n",
    "    with open(f'{name}.yaml', 'w') as outfile:\n",
    "        yaml.dump(params, outfile, default_flow_style=False)"
   ]
  },
  {
   "cell_type": "code",
   "execution_count": 7,
   "id": "5da2efbb",
   "metadata": {},
   "outputs": [
    {
     "name": "stdout",
     "output_type": "stream",
     "text": [
      "CONFIG CREATED\n"
     ]
    }
   ],
   "source": [
    "#Synthetic Flows config creater\n",
    "\n",
    "name = \"small_test_synth\"\n",
    "params = {\n",
    "\"NU\" : 0.99,\n",
    "\"kappa\" : 0.001,\n",
    "\"BETA\" : 0.1,\n",
    "\"PHI\" : 0.5,\n",
    "\"D\" : 0.1,\n",
    "\"delta_t\" : 0.05,\n",
    "\"delta_r\": 0.001,\n",
    "\"t_end\" : 10.,\n",
    "\"num_eps\": 50\n",
    "}\n",
    "\n",
    "\n",
    "\n",
    "if os.path.isfile(f'{name}.yaml'):\n",
    "    print(\"CONFIG WITH THIS NAME ALREADY EXISTS\")\n",
    "else:\n",
    "    print(\"CONFIG CREATED\")\n",
    "    with open(f'{name}.yaml', 'w') as outfile:\n",
    "        yaml.dump(params, outfile, default_flow_style=False)"
   ]
  },
  {
   "cell_type": "code",
   "execution_count": null,
   "id": "4e343228",
   "metadata": {},
   "outputs": [],
   "source": []
  }
 ],
 "metadata": {
  "@webio": {
   "lastCommId": null,
   "lastKernelId": null
  },
  "kernelspec": {
   "display_name": "stableBase3",
   "language": "python",
   "name": "python3"
  },
  "language_info": {
   "codemirror_mode": {
    "name": "ipython",
    "version": 3
   },
   "file_extension": ".py",
   "mimetype": "text/x-python",
   "name": "python",
   "nbconvert_exporter": "python",
   "pygments_lexer": "ipython3",
   "version": "3.11.0"
  }
 },
 "nbformat": 4,
 "nbformat_minor": 5
}
