{
 "cells": [
  {
   "cell_type": "code",
   "execution_count": 26,
   "id": "64cfd1b2",
   "metadata": {
    "scrolled": false
   },
   "outputs": [
    {
     "data": {
      "text/plain": [
       "envStep (generic function with 1 method)"
      ]
     },
     "execution_count": 26,
     "metadata": {},
     "output_type": "execute_result"
    }
   ],
   "source": [
    "include(\"abc_numerics.jl\")"
   ]
  },
  {
   "cell_type": "code",
   "execution_count": 27,
   "id": "dfd72ef1",
   "metadata": {
    "scrolled": true
   },
   "outputs": [
    {
     "data": {
      "text/plain": [
       "0.0"
      ]
     },
     "execution_count": 27,
     "metadata": {},
     "output_type": "execute_result"
    }
   ],
   "source": [
    "A = 1.\n",
    "B = 0.7\n",
    "C = 0.43\n",
    "NU = 0.99\n",
    "kappa = 0.001\n",
    "BETA = 0.1\n",
    "PHI = 0."
   ]
  },
  {
   "cell_type": "code",
   "execution_count": 28,
   "id": "8e07a842",
   "metadata": {},
   "outputs": [
    {
     "data": {
      "text/plain": [
       "([0.25143611920882847, 0.598661013565485, 0.3690483931970047], [0.28115857499939123, 0.5076459501588878, 0.4170399107407758], 0.00010513318118889754)"
      ]
     },
     "execution_count": 28,
     "metadata": {},
     "output_type": "execute_result"
    }
   ],
   "source": [
    "envStep(A,B,C,PHI,NU,kappa,BETA,[0.,0.,0.,0.,0.,0.],0.5)"
   ]
  },
  {
   "cell_type": "code",
   "execution_count": 33,
   "id": "bbf8574c",
   "metadata": {},
   "outputs": [
    {
     "data": {
      "text/plain": [
       "1×101 Matrix{Float64}:\n",
       " 0.0  0.00661831  0.00578375  0.00818627  …  0.0454578  0.0488423  0.0467106"
      ]
     },
     "execution_count": 33,
     "metadata": {},
     "output_type": "execute_result"
    }
   ],
   "source": [
    "separations = sum(x -> x^2, sep_vecs; dims=1)\n",
    "separations .= sqrt.(separations)"
   ]
  },
  {
   "cell_type": "code",
   "execution_count": 31,
   "id": "0c267085",
   "metadata": {},
   "outputs": [
    {
     "data": {
      "text/plain": [
       "4-element Vector{Int64}:\n",
       " 1\n",
       " 2\n",
       " 3\n",
       " 4"
      ]
     },
     "execution_count": 31,
     "metadata": {},
     "output_type": "execute_result"
    }
   ],
   "source": [
    "x=[\n",
    "    1\n",
    "    2\n",
    "    3\n",
    "    4\n",
    "    \n",
    "]"
   ]
  },
  {
   "cell_type": "code",
   "execution_count": 18,
   "id": "18812e81",
   "metadata": {},
   "outputs": [
    {
     "data": {
      "text/plain": [
       "(4,)"
      ]
     },
     "execution_count": 18,
     "metadata": {},
     "output_type": "execute_result"
    }
   ],
   "source": [
    "size(x)"
   ]
  },
  {
   "cell_type": "code",
   "execution_count": 39,
   "id": "1c9d4740",
   "metadata": {},
   "outputs": [
    {
     "data": {
      "text/plain": [
       "1×101 Matrix{Float64}:\n",
       " 0.0  4.3802e-5  3.34518e-5  6.7015e-5  …  0.00206641  0.00238557  0.00218188"
      ]
     },
     "execution_count": 39,
     "metadata": {},
     "output_type": "execute_result"
    }
   ],
   "source": [
    "separations.^2"
   ]
  },
  {
   "cell_type": "code",
   "execution_count": 40,
   "id": "c91d04ea",
   "metadata": {},
   "outputs": [
    {
     "data": {
      "text/plain": [
       "1×101 Matrix{Float64}:\n",
       " 0.0  0.00661831  0.00578375  0.00818627  …  0.0454578  0.0488423  0.0467106"
      ]
     },
     "execution_count": 40,
     "metadata": {},
     "output_type": "execute_result"
    }
   ],
   "source": [
    "separations"
   ]
  },
  {
   "cell_type": "code",
   "execution_count": 6,
   "id": "9ec9f23d",
   "metadata": {},
   "outputs": [
    {
     "data": {
      "text/plain": [
       "3×4 Matrix{Int64}:\n",
       " 1  2  3  5\n",
       " 4  5  6  6\n",
       " 7  8  9  7"
      ]
     },
     "execution_count": 6,
     "metadata": {},
     "output_type": "execute_result"
    }
   ],
   "source": [
    "x=[1 2 3 5\n",
    "    4 5 6 6\n",
    "    7 8 9 7]"
   ]
  },
  {
   "cell_type": "code",
   "execution_count": 9,
   "id": "bb103c66",
   "metadata": {},
   "outputs": [
    {
     "data": {
      "text/plain": [
       "3×2 Matrix{Int64}:\n",
       "  4   7\n",
       " 10  11\n",
       " 16  15"
      ]
     },
     "execution_count": 9,
     "metadata": {},
     "output_type": "execute_result"
    }
   ],
   "source": [
    "x[:,1:2]+x[:,3:4]"
   ]
  },
  {
   "cell_type": "code",
   "execution_count": 10,
   "id": "e9b1f984",
   "metadata": {},
   "outputs": [
    {
     "data": {
      "text/plain": [
       "3-element Vector{Int64}:\n",
       " 5\n",
       " 6\n",
       " 7"
      ]
     },
     "execution_count": 10,
     "metadata": {},
     "output_type": "execute_result"
    }
   ],
   "source": [
    "x[:,end]"
   ]
  },
  {
   "cell_type": "code",
   "execution_count": null,
   "id": "6fb84a2a",
   "metadata": {},
   "outputs": [],
   "source": []
  }
 ],
 "metadata": {
  "@webio": {
   "lastCommId": null,
   "lastKernelId": null
  },
  "kernelspec": {
   "display_name": "Julia 1.8.0",
   "language": "julia",
   "name": "julia-1.8"
  },
  "language_info": {
   "file_extension": ".jl",
   "mimetype": "application/julia",
   "name": "julia",
   "version": "1.8.0"
  }
 },
 "nbformat": 4,
 "nbformat_minor": 5
}
