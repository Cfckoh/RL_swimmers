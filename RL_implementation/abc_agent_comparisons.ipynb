{
 "cells": [
  {
   "cell_type": "code",
   "execution_count": 1,
   "id": "e820b5b0",
   "metadata": {},
   "outputs": [],
   "source": [
    "import yaml\n",
    "import os\n",
    "import gym\n",
    "import numpy as np\n",
    "from gym import spaces\n",
    "from stable_baselines3 import A2C\n",
    "from stable_baselines3 import PPO\n",
    "from stable_baselines3.common.env_checker import check_env\n",
    "import matplotlib.pyplot as plt\n",
    "from abc_env import ABC_env\n",
    "from naive_agents import DoNothing, FixedPhi\n",
    "from actor_physicist_agent import RL_phi_agent\n",
    "\n",
    "import julia\n",
    "jl = julia.Julia(sysimage=\"julia_img.so\")\n",
    "from julia import Main"
   ]
  },
  {
   "cell_type": "markdown",
   "id": "844376f2",
   "metadata": {},
   "source": [
    "### First make an open ai gym compliant version of the abc environment so we can train out of box RL algos"
   ]
  },
  {
   "cell_type": "code",
   "execution_count": 2,
   "id": "cf38a687",
   "metadata": {},
   "outputs": [],
   "source": [
    "\n",
    "class ABC_env_gym(gym.Env):\n",
    "    \"\"\"\n",
    "    Environment is 3D ABC environment!! \n",
    "    \"\"\"\n",
    "    def __init__(self,A,B,C,start_sep, beta, kappa, D, nu,seed=1):\n",
    "        \"\"\" \n",
    "        - proper value for D should be derived from sampled lyapunov exponent\n",
    "        \"\"\"\n",
    "        Main.include(\"abc_numerics.jl\")\n",
    "\n",
    "        super().__init__()\n",
    "        self.A = A\n",
    "        self.B = B\n",
    "        self.C = C\n",
    "        self.rng = np.random.default_rng(seed=seed)\n",
    "        self.start_sep = start_sep\n",
    "        self.sep_vec = self.rng.random(3) - 0.5\n",
    "        self.sep_vec = self.sep_vec*start_sep/np.linalg.norm(self.sep_vec)\n",
    "        self.passive = (self.rng.random(3) - 0.5) * 2 * np.pi\n",
    "        self.active = self.active = self.passive + self.sep_vec\n",
    "        self.reward=0\n",
    "        self.deltaT=0.1 # environment step size\n",
    "        self.time_step=0\n",
    "        self.limit=10.\n",
    "        self.kappa = kappa\n",
    "        self.D = D\n",
    "        self.nu = nu\n",
    "        self.beta = beta\n",
    "        \n",
    "        \n",
    "        self.action_space = spaces.Box(low=np.array([-5.]), high=np.array([5.]),dtype=np.float32)\n",
    "        self.observation_space = spaces.Box(low=np.array([-100,-100,-100]),\n",
    "                                            high=np.array([100,100,100],\n",
    "                                            dtype=np.float32))\n",
    "\n",
    "    # need to track active and passive not just separation vector\n",
    "\n",
    "    def reset(self):\n",
    "        self.sep_vec = self.rng.random(3) - 0.5\n",
    "        self.sep_vec = self.sep_vec*self.start_sep/np.linalg.norm(self.sep_vec)\n",
    "        self.passive = (self.rng.random(3) - 0.5) * 2 * np.pi\n",
    "        self.active = self.active = self.passive + self.sep_vec\n",
    "        self.reward=0\n",
    "        self.time_step=0\n",
    "        return np.array(self.getState(),dtype=np.float32)\n",
    "\n",
    "    def step(self,action):\n",
    "        # actions are just a selection of phi for thissteps = env.limit/env.deltaT * num_eps # amount of training steps allowed\n",
    "        phi = action\n",
    "        state_string = np.array2string(np.append(self.passive,self.active), separator=\",\")\n",
    "        self.passive,self.active, penalty = Main.eval(f\"envStep({self.A},{self.B},{self.C},{float(phi)}, {self.nu}, {self.kappa}, {self.beta}, {state_string},{self.deltaT})\") \n",
    "        self.sep_vec = self.passive - self.active\n",
    "        self.time_step += 1\n",
    "        reward = -penalty\n",
    "        return np.array(self.getState(),dtype=np.float32), reward, self.isOver(), {}\n",
    "\n",
    "\n",
    "    def eval_step(self,phi):\n",
    "        \"\"\"\n",
    "        Returns the baseline aproximate for the given phi value and the current state\n",
    "\n",
    "        NOTE: In training you should always evaluate for a fixed phi not the phi the agent picks. \n",
    "\n",
    "        \"\"\"\n",
    "\n",
    "        dims = 3\n",
    "        d_tilde = (dims+2) * (dims-1) * self.D\n",
    "        #useful intermediate value used in the baseline mutiple times\n",
    "        block = self.nu + 2*phi - d_tilde\n",
    "        time_remaining = self.limit - self.getTime()\n",
    "        a = ((self.beta + phi**2)*(1-np.exp(-time_remaining*block)))/block\n",
    "        b_term1 = dims * self.kappa * (self.beta + phi**2) / (self.nu*(2*phi-d_tilde))\n",
    "        b_term2 = 1 - np.exp(-self.nu*time_remaining) - self.nu * (1-np.exp(-time_remaining*block))/block\n",
    "        b = b_term1 * b_term2\n",
    "        return -(a*self.dist()**2 + b)\n",
    "\n",
    "\n",
    "\n",
    "\n",
    "    def getState(self):\n",
    "        steps = env.limit/env.deltaT * num_eps # amount of training steps allowed\n",
    "        return self.sep_vec\n",
    "    \n",
    "    def isOver(self):\n",
    "        return self.time_step * self.deltaT >= self.limit\n",
    "        \n",
    "    def dist(self):\n",
    "        return np.linalg.norm(self.sep_vec)\n",
    "\n",
    "    def getTime(self):\n",
    "        return self.time_step * self.deltaT\n"
   ]
  },
  {
   "cell_type": "code",
   "execution_count": 3,
   "id": "8d0ff140",
   "metadata": {},
   "outputs": [
    {
     "name": "stderr",
     "output_type": "stream",
     "text": [
      "/home/cfckoh/anaconda3/envs/stableBase3/lib/python3.11/site-packages/gym/spaces/box.py:73: UserWarning: \u001b[33mWARN: Box bound precision lowered by casting to float32\u001b[0m\n",
      "  logger.warn(\n",
      "/home/cfckoh/anaconda3/envs/stableBase3/lib/python3.11/site-packages/stable_baselines3/common/env_checker.py:361: UserWarning: We recommend you to use a symmetric and normalized Box action space (range=[-1, 1]) cf https://stable-baselines3.readthedocs.io/en/master/guide/rl_tips.html\n",
      "  warnings.warn(\n"
     ]
    }
   ],
   "source": [
    "# Load parameters for a given config file\n",
    "config_file = \"default_config_abc\"\n",
    "\n",
    "with open(f\"config_files/{config_file}.yaml\") as cf_file:\n",
    "        config = yaml.safe_load( cf_file.read() )\n",
    "\n",
    "# load params from file\n",
    "dims=3 #abc flows is 3d\n",
    "A = config[\"A\"]\n",
    "B = config[\"B\"]\n",
    "C = config[\"C\"]\n",
    "start_sep = config[\"start_sep\"]\n",
    "BETA = config[\"BETA\"]\n",
    "kappa = config[\"kappa\"] \n",
    "D = config[\"D\"]\n",
    "NU = config[\"NU\"] \n",
    "delta_t = config[\"delta_t\"]\n",
    "t_end = config[\"t_end\"]\n",
    "num_eps = config[\"num_eps\"]\n",
    "\n",
    "# intialize and test environment\n",
    "env = ABC_env_gym(A,B,C,start_sep,BETA,kappa,D,NU)\n",
    "env.limit = t_end\n",
    "env.deltaT = delta_t\n",
    "# It will check your custom environment and output additional warnings if needed\n",
    "check_env(env)"
   ]
  },
  {
   "cell_type": "code",
   "execution_count": 6,
   "id": "e1c2caeb",
   "metadata": {
    "scrolled": true
   },
   "outputs": [
    {
     "name": "stdout",
     "output_type": "stream",
     "text": [
      "Using cpu device\n",
      "Wrapping the env with a `Monitor` wrapper\n",
      "Wrapping the env in a DummyVecEnv.\n"
     ]
    }
   ],
   "source": [
    "# train out of box A2C if saved model doesn't exists already\n",
    "\n",
    "steps = env.limit/env.deltaT * num_eps # amount of training steps allowed\n",
    "model_file=\"saved_models/stablebase_A2C.zip\"\n",
    "model_A2C = A2C(\"MlpPolicy\", env, verbose=1)\n",
    "if not os.path.isfile(model_file):\n",
    "    model_A2C.learn(total_timesteps=steps)\n",
    "    model_A2C.save(\"saved_models/stablebase_A2C\")\n",
    "else:\n",
    "    model_A2C.load(\"saved_models/stablebase_A2C\")"
   ]
  },
  {
   "cell_type": "code",
   "execution_count": 7,
   "id": "74dc8890",
   "metadata": {},
   "outputs": [
    {
     "name": "stdout",
     "output_type": "stream",
     "text": [
      "Using cpu device\n",
      "Wrapping the env with a `Monitor` wrapper\n",
      "Wrapping the env in a DummyVecEnv.\n"
     ]
    }
   ],
   "source": [
    "# train out of box PPO (a more sophisticated actor-critic algo)\n",
    "\n",
    "steps = env.limit/env.deltaT * num_eps # amount of training steps allowed\n",
    "model_file=\"saved_models/stablebase_PPO.zip\"\n",
    "model_PPO = PPO(\"MlpPolicy\", env, verbose=1)\n",
    "if not os.path.isfile(model_file):\n",
    "    model_PPO.learn(total_timesteps=steps)\n",
    "    model_PPO.save(\"saved_models/stablebase_PPO\")\n",
    "else:\n",
    "    model_PPO.load(\"saved_models/stablebase_PPO\")"
   ]
  },
  {
   "cell_type": "markdown",
   "id": "91370a81",
   "metadata": {},
   "source": [
    "### Now compare different agents"
   ]
  },
  {
   "cell_type": "code",
   "execution_count": 14,
   "id": "06ee3e44",
   "metadata": {},
   "outputs": [],
   "source": [
    "# intialize agents and names\n",
    "actor_physicist = RL_phi_agent(dims,action_scale=5.)\n",
    "actor_physicist.load_policy(f\"saved_models/default_config_abc.pt\")\n",
    "\n",
    "standard_models = [(model_A2C,\"A2C\"),(model_PPO,\"PPO\")]\n",
    "other_models = [(FixedPhi(1.6),\"fixed $\\phi$\"),(actor_physicist,\"actor physicist\")]\n",
    "\n",
    "\n"
   ]
  },
  {
   "cell_type": "code",
   "execution_count": 15,
   "id": "1a6cc5f9",
   "metadata": {},
   "outputs": [],
   "source": [
    "compare_eps = 500\n",
    "state = env.reset()\n",
    "results = {}\n",
    "\n",
    "# stablebase out of box agents\n",
    "for stable_model,name in standard_models:\n",
    "    cum_rew=np.zeros(int(env.limit/env.deltaT)+1)\n",
    "    for ep in range(compare_eps):\n",
    "        step=0\n",
    "        episode_rew=0\n",
    "        while not env.isOver():\n",
    "            action,_ = stable_model.predict(state)\n",
    "            state, reward, _, _ = env.step(action)\n",
    "            episode_rew += reward\n",
    "            step+=1\n",
    "            cum_rew[step] = episode_rew\n",
    "        state = env.reset()\n",
    "    results[name]=cum_rew\n",
    "\n",
    "# other agents\n",
    "for model,name in other_models:\n",
    "    cum_rew=np.zeros(int(env.limit/env.deltaT)+1)\n",
    "    for ep in range(compare_eps):\n",
    "        step=0\n",
    "        episode_rew=0\n",
    "        while not env.isOver():\n",
    "            action = model.sample_action(state)\n",
    "            state, reward, _, _ = env.step(action)\n",
    "            episode_rew += reward\n",
    "            step+=1\n",
    "            cum_rew[step] = episode_rew\n",
    "        state = env.reset()\n",
    "        results[name]=cum_rew"
   ]
  },
  {
   "cell_type": "code",
   "execution_count": 16,
   "id": "288fecea",
   "metadata": {},
   "outputs": [
    {
     "data": {
      "text/plain": [
       "(-1.0, 0.0)"
      ]
     },
     "execution_count": 16,
     "metadata": {},
     "output_type": "execute_result"
    },
    {
     "data": {
      "image/png": "[encoded data removed]",
      "text/plain": [
       "<Figure size 640x480 with 1 Axes>"
      ]
     },
     "metadata": {},
     "output_type": "display_data"
    }
   ],
   "source": [
    "# plot the results averaged over an episode\n",
    "labels=[]\n",
    "for name,rews in results.items():\n",
    "    labels.append(name)\n",
    "    plt.plot(np.arange(len(rews))/int(1/env.deltaT),rews)\n",
    "plt.legend(labels=labels)\n",
    "plt.title(\"Avg Reward Over An Episode (ABC Flows)\")\n",
    "plt.xlabel(\"Time\")\n",
    "plt.ylabel(\"Avg Reward\")\n",
    "plt.ylim(-1,0.)"
   ]
  }
 ],
 "metadata": {
  "@webio": {
   "lastCommId": null,
   "lastKernelId": null
  },
  "kernelspec": {
   "display_name": "Python (stableBase3)",
   "language": "python",
   "name": "stablebase3"
  },
  "language_info": {
   "codemirror_mode": {
    "name": "ipython",
    "version": 3
   },
   "file_extension": ".py",
   "mimetype": "text/x-python",
   "name": "python",
   "nbconvert_exporter": "python",
   "pygments_lexer": "ipython3",
   "version": "3.11.0"
  }
 },
 "nbformat": 4,
 "nbformat_minor": 5
}
