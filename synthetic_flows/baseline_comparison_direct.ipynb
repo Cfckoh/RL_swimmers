{
 "cells": [
  {
   "cell_type": "code",
   "execution_count": 2,
   "id": "102979ec",
   "metadata": {},
   "outputs": [],
   "source": [
    "import sdeint\n",
    "import numpy as np\n",
    "import csv\n",
    "#import random as rand\n",
    "import matplotlib.pyplot as plt\n",
    "#from itertools import accumulate\n",
    "from scipy.optimize import curve_fit\n",
    "from synthetic_env import synthetic_env\n",
    "from naive_agents import DoNothing, FixedPhi\n",
    "#from scipy.stats import norm"
   ]
  },
  {
   "cell_type": "markdown",
   "id": "29c92e94",
   "metadata": {},
   "source": [
    "## First run Numerics Outside of Environment"
   ]
  },
  {
   "cell_type": "code",
   "execution_count": 3,
   "id": "fe7640a3",
   "metadata": {},
   "outputs": [],
   "source": [
    "def expected_prop_2d(r,PHI,D,r_d,scaling=1.0):\n",
    "    return scaling*np.power((r_d/r),(2*(PHI-D)/D))/r\n",
    "\n",
    "def f(u, t):\n",
    "    #print(u)\n",
    "    return np.array([\n",
    "        u[2]*u[0] + u[3]*u[1] - PHI * u[0],\n",
    "        u[4]*u[0] + u[5]*u[1] - PHI * u[1],\n",
    "        -u[2],\n",
    "        -u[3],\n",
    "        -u[4],\n",
    "        -u[5]\n",
    "    ])\n",
    "\n",
    "def g(u, t):\n",
    "    return np.array([\n",
    "        [np.sqrt(kappa), 0, 0, 0, 0],\n",
    "        [0, np.sqrt(kappa), 0, 0, 0],\n",
    "        [0, 0, np.sqrt(D), 0, 0],\n",
    "        [0, 0, 0, np.sqrt(D), np.sqrt(2) * np.sqrt(D)],\n",
    "        [0, 0, 0, np.sqrt(D), -np.sqrt(2) * np.sqrt(D)],\n",
    "        [0, 0, -np.sqrt(D), 0, 0]\n",
    "    ])\n",
    "\n",
    "def penalty(sep,phi,beta,delta_t):\n",
    "    return (phi**2+beta)*sep**2*delta_t"
   ]
  },
  {
   "cell_type": "code",
   "execution_count": 4,
   "id": "74400d98",
   "metadata": {},
   "outputs": [
    {
     "name": "stdout",
     "output_type": "stream",
     "text": [
      "0.25\n"
     ]
    }
   ],
   "source": [
    "# Choose Params\n",
    "dim=2\n",
    "kappa = 0.001\n",
    "D = 0.1\n",
    "BETA = 0.1\n",
    "D_tilde = D*(dim+1)*(dim-1)\n",
    "PHI = 0.25#(D_tilde + np.sqrt(4*BETA+D_tilde))/2\n",
    "r_d = np.sqrt(kappa/D)\n",
    "\n",
    "delta_t = 0.1\n",
    "NU = 0.99\n",
    "#Params that are close to ABC flow params\n",
    "\n",
    "#PHI = 0.7  \n",
    "#kappa = 0.02*np.pi\n",
    "#D = 0.25\n",
    "#r_d = np.sqrt(kappa/D)\n",
    "print(PHI)"
   ]
  },
  {
   "cell_type": "code",
   "execution_count": 6,
   "id": "8ed105f6",
   "metadata": {},
   "outputs": [
    {
     "data": {
      "text/plain": [
       "0.5"
      ]
     },
     "execution_count": 6,
     "metadata": {},
     "output_type": "execute_result"
    }
   ],
   "source": [
    "(D_tilde + np.sqrt(4*BETA+D_tilde**2))/2"
   ]
  },
  {
   "cell_type": "code",
   "execution_count": 12,
   "id": "057245b2",
   "metadata": {},
   "outputs": [],
   "source": [
    "# Run the SDEs\n",
    "dictionary = {}\n",
    "num_eps = 1000\n",
    "noise_initial = np.array([0,0,0,0,0,0])\n",
    "noise_initial[:2] = np.random.rand(2) - 0.5\n",
    "for i in range(num_eps):\n",
    "    u0 = noise_initial\n",
    "\n",
    "\n",
    "    tspan = np.arange(0.0, 10.0,delta_t)  # 100 time units\n",
    "\n",
    "    result = sdeint.itoint(f, g, u0, tspan)\n",
    "    \n",
    "    # storing last value for the random start of the next value in the uhlenbreck processes\n",
    "    noise_initial = result[-1]\n",
    "\n",
    "    separations = np.sum(result[:, :2]**2, axis=1)\n",
    "    separations = np.sqrt(separations)\n",
    "\n",
    "\n",
    "    N = len(separations)\n",
    "    S_n = 0.0\n",
    "    returns = np.zeros(N)\n",
    "    discount = np.exp(-NU*delta_t)\n",
    "    for i in range(1,N+1):\n",
    "        S_n = S_n*discount + penalty(separations[N-i],PHI,BETA,delta_t)\n",
    "        returns[N-i] = S_n\n",
    "        \n",
    "    \n",
    "    delta_r = 0.002\n",
    "    for i in range(N):\n",
    "        key = (i, int(separations[i]/delta_r))\n",
    "        if key in dictionary:\n",
    "            # increase sum and count\n",
    "            dictionary[key] = dictionary[key][0] + returns[i], dictionary[key][1] + 1\n",
    "        else:\n",
    "            dictionary[key] = [returns[i], 1]\n",
    "    "
   ]
  },
  {
   "cell_type": "code",
   "execution_count": 5,
   "id": "9be91065",
   "metadata": {},
   "outputs": [],
   "source": [
    "with open(f'noise_corrected_bins_{num_eps}_{delta_t}_continuing.csv', 'w') as csvfile:\n",
    "    writer = csv.DictWriter(csvfile, fieldnames=list(dictionary.keys()))\n",
    "    writer.writeheader()\n",
    "    writer.writerow(dictionary)"
   ]
  },
  {
   "cell_type": "code",
   "execution_count": 6,
   "id": "056ebad9",
   "metadata": {},
   "outputs": [],
   "source": [
    "# Specfic to 2 dimensions\n",
    "def baseline(time_remaining,separation):\n",
    "    dims=2\n",
    "    # a useful intermediate value used in the baseline calculations\n",
    "    d_tilde = 4*D\n",
    "    block = NU + 2*PHI - d_tilde\n",
    "    \n",
    "    def A():\n",
    "        num = (BETA + PHI**2)*(1-np.exp(-time_remaining*block))\n",
    "        denom = block\n",
    "        return num/denom\n",
    "    \n",
    "    def B():\n",
    "        first_term = dims * kappa * (BETA + PHI**2) / (NU*(2*PHI-d_tilde))\n",
    "        second_term = 1 - np.exp(-NU*time_remaining) - NU * (1-np.exp(-time_remaining*block))/block\n",
    "        return first_term*second_term\n",
    "        \n",
    "    \n",
    "    return A()*separation**2 + B()"
   ]
  },
  {
   "cell_type": "code",
   "execution_count": 10,
   "id": "1da28b31",
   "metadata": {},
   "outputs": [],
   "source": [
    "t_end = max(tspan)\n",
    "sampled = np.zeros([100,len(tspan)])\n",
    "evaluated = np.zeros([100,len(tspan)])\n",
    "count_threshhold = 100\n",
    "for key, value in dictionary.items():\n",
    "    if value[1] > count_threshhold:\n",
    "        time_remaining = t_end - key[0]*delta_t\n",
    "        sep = key[1]*delta_r\n",
    "        sampled[key[1]][key[0]] = value[0]/value[1]\n",
    "        evaluated[key[1]][key[0]] = baseline(time_remaining,sep)"
   ]
  },
  {
   "cell_type": "code",
   "execution_count": 11,
   "id": "be121c02",
   "metadata": {},
   "outputs": [
    {
     "data": {
      "text/plain": [
       "Text(0.5, 1.0, 'difference')"
      ]
     },
     "execution_count": 11,
     "metadata": {},
     "output_type": "execute_result"
    },
    {
     "data": {
      "image/png": "[encoded data removed]",
      "text/plain": [
       "<Figure size 1500x600 with 6 Axes>"
      ]
     },
     "metadata": {},
     "output_type": "display_data"
    }
   ],
   "source": [
    "fig, ax = plt.subplots(3, 1) \n",
    "scale = ax[0].imshow(np.flip(sampled,axis=0), interpolation='nearest', extent = [0 , sampled.shape[1]*delta_t,0,delta_r*sampled.shape[0]], aspect=10)\n",
    "scale2 = ax[1].imshow(np.flip(evaluated,axis=0), interpolation='nearest', extent = [0 , sampled.shape[1]*delta_t,0,delta_r*sampled.shape[0]], aspect=10)\n",
    "scale3 = ax[2].imshow(np.flip((evaluated-sampled),axis=0), interpolation='nearest', extent = [0 , sampled.shape[1]*delta_t,0,delta_r*sampled.shape[0]], aspect=10)\n",
    "fig.set_size_inches(15,6)\n",
    "fig.colorbar(scale, ax=ax[0])\n",
    "fig.colorbar(scale2, ax=ax[1])\n",
    "fig.colorbar(scale3, ax=ax[2])\n",
    "\n",
    "ax[0].set_xlabel('time')\n",
    "ax[0].set_ylabel('seperation')\n",
    "ax[0].set_title(\"observed\")\n",
    "\n",
    "ax[1].set_xlabel('time')\n",
    "ax[1].set_ylabel('seperation')\n",
    "ax[1].set_title(\"predicted\")\n",
    "\n",
    "ax[2].set_xlabel('time')\n",
    "ax[2].set_ylabel('seperation')\n",
    "ax[2].set_title(\"difference\")"
   ]
  },
  {
   "cell_type": "code",
   "execution_count": 9,
   "id": "eb79a827",
   "metadata": {},
   "outputs": [
    {
     "ename": "IndexError",
     "evalue": "index 200 is out of bounds for axis 1 with size 100",
     "output_type": "error",
     "traceback": [
      "\u001b[0;31m---------------------------------------------------------------------------\u001b[0m",
      "\u001b[0;31mIndexError\u001b[0m                                Traceback (most recent call last)",
      "Cell \u001b[0;32mIn[9], line 1\u001b[0m\n\u001b[0;32m----> 1\u001b[0m plt\u001b[38;5;241m.\u001b[39mplot(\u001b[43msampled\u001b[49m\u001b[43m[\u001b[49m\u001b[43m:\u001b[49m\u001b[43m,\u001b[49m\u001b[38;5;241;43m200\u001b[39;49m\u001b[43m]\u001b[49m)\n\u001b[1;32m      2\u001b[0m plt\u001b[38;5;241m.\u001b[39mplot(evaluated[:,\u001b[38;5;241m200\u001b[39m])\n\u001b[1;32m      3\u001b[0m plt\u001b[38;5;241m.\u001b[39mxlabel(\u001b[38;5;124m\"\u001b[39m\u001b[38;5;124mseperation\u001b[39m\u001b[38;5;124m\"\u001b[39m)\n",
      "\u001b[0;31mIndexError\u001b[0m: index 200 is out of bounds for axis 1 with size 100"
     ]
    }
   ],
   "source": [
    "plt.plot(sampled[:,200])\n",
    "plt.plot(evaluated[:,200])\n",
    "plt.xlabel(\"seperation\")\n",
    "plt.ylabel(\"return\")\n",
    "plt.legend(labels=[\"observed\",\"predicted\"])"
   ]
  },
  {
   "cell_type": "code",
   "execution_count": null,
   "id": "709f79b1",
   "metadata": {},
   "outputs": [],
   "source": [
    "# start of random play ground\n",
    "assert(1==0)"
   ]
  },
  {
   "cell_type": "code",
   "execution_count": null,
   "id": "565b7e38",
   "metadata": {},
   "outputs": [],
   "source": [
    "sampled[:200].shape"
   ]
  },
  {
   "cell_type": "code",
   "execution_count": null,
   "id": "21360549",
   "metadata": {},
   "outputs": [],
   "source": [
    "np.array([1,2,3]) / np.array([1,2,3])"
   ]
  },
  {
   "cell_type": "code",
   "execution_count": null,
   "id": "9fd14997",
   "metadata": {},
   "outputs": [],
   "source": [
    "sampled-evaluated"
   ]
  },
  {
   "cell_type": "code",
   "execution_count": null,
   "id": "5814bed1",
   "metadata": {},
   "outputs": [],
   "source": [
    "sampled[314][0]"
   ]
  },
  {
   "cell_type": "code",
   "execution_count": null,
   "id": "801214be",
   "metadata": {},
   "outputs": [],
   "source": [
    "evaluated[314][0]"
   ]
  },
  {
   "cell_type": "code",
   "execution_count": null,
   "id": "fb88bd86",
   "metadata": {},
   "outputs": [],
   "source": [
    "image.shape"
   ]
  },
  {
   "cell_type": "code",
   "execution_count": null,
   "id": "f50a1b6d",
   "metadata": {},
   "outputs": [],
   "source": [
    "A = np.random.random((5,5))\n",
    "A[2,2]=0.\n",
    "plt.imshow(A, interpolation='nearest')"
   ]
  },
  {
   "cell_type": "code",
   "execution_count": null,
   "id": "f24040b6",
   "metadata": {},
   "outputs": [],
   "source": [
    "A"
   ]
  },
  {
   "cell_type": "code",
   "execution_count": null,
   "id": "79176de3",
   "metadata": {},
   "outputs": [],
   "source": [
    "N"
   ]
  },
  {
   "cell_type": "code",
   "execution_count": null,
   "id": "22224744",
   "metadata": {},
   "outputs": [],
   "source": [
    "dictionary[(1,312)]"
   ]
  },
  {
   "cell_type": "code",
   "execution_count": null,
   "id": "9763006a",
   "metadata": {},
   "outputs": [],
   "source": [
    "import sys\n",
    "sys.getsizeof(dictionary)\n"
   ]
  },
  {
   "cell_type": "code",
   "execution_count": null,
   "id": "d23315f9",
   "metadata": {},
   "outputs": [],
   "source": [
    "import csv"
   ]
  },
  {
   "cell_type": "code",
   "execution_count": null,
   "id": "8aae4b82",
   "metadata": {},
   "outputs": [],
   "source": [
    "\n",
    "with open(f'bins_{num_eps}.csv', 'w') as csvfile:\n",
    "    writer = csv.DictWriter(csvfile, fieldnames=list(dictionary.keys()))\n",
    "    writer.writeheader()\n",
    "    writer.writerow(dictionary)"
   ]
  },
  {
   "cell_type": "code",
   "execution_count": null,
   "id": "fedc6ce6",
   "metadata": {},
   "outputs": [],
   "source": [
    "list(dictionary.keys())"
   ]
  },
  {
   "cell_type": "code",
   "execution_count": null,
   "id": "62586189",
   "metadata": {},
   "outputs": [],
   "source": [
    "dictionary.keys()"
   ]
  },
  {
   "cell_type": "code",
   "execution_count": null,
   "id": "9bda30b9",
   "metadata": {
    "scrolled": true
   },
   "outputs": [],
   "source": [
    "N = len(separations)\n",
    "S_n = 0.0\n",
    "returns = np.zeros(N)\n",
    "discount = np.exp(-NU*delta_t)\n",
    "for i in range(1,N+1):\n",
    "    S_n = S_n*discount + penalty(separations[N-i],PHI,BETA,delta_t)\n",
    "    returns[N-i] = S_n\n",
    "    #S_n = np.append(S_n, S_n[i-1]*discount + penalty(separations[N-i],PHI,BETA,delta_t))"
   ]
  },
  {
   "cell_type": "code",
   "execution_count": null,
   "id": "e2e22319",
   "metadata": {},
   "outputs": [],
   "source": [
    "len(returns)"
   ]
  },
  {
   "cell_type": "code",
   "execution_count": null,
   "id": "b83b43d1",
   "metadata": {},
   "outputs": [],
   "source": [
    "len(tspan)"
   ]
  },
  {
   "cell_type": "code",
   "execution_count": null,
   "id": "ee600b71",
   "metadata": {},
   "outputs": [],
   "source": [
    "len(separations)"
   ]
  },
  {
   "cell_type": "code",
   "execution_count": null,
   "id": "01d9fe59",
   "metadata": {},
   "outputs": [],
   "source": [
    "plt.plot(np.arange(N) * delta_t,returns)"
   ]
  },
  {
   "cell_type": "code",
   "execution_count": null,
   "id": "9986d984",
   "metadata": {},
   "outputs": [],
   "source": [
    "np.arange(N) * delta_t"
   ]
  },
  {
   "cell_type": "code",
   "execution_count": null,
   "id": "cbac4e4f",
   "metadata": {},
   "outputs": [],
   "source": [
    "N = len(separations)-1\n",
    "S_n = np.array([(PHI**2+BETA)*np.exp(0)*separations[-1]**2*delta_t])\n",
    "for r in reversed(separations[:-1]):\n",
    "    S_n = S_n.append(S_n,(PHI**2+BETA)*np.exp(-nu*(N-index)*delta_t)*separations[index]**2*delta_t\n",
    "    "
   ]
  },
  {
   "cell_type": "code",
   "execution_count": null,
   "id": "a9c82613",
   "metadata": {},
   "outputs": [],
   "source": [
    "len(separations)"
   ]
  },
  {
   "cell_type": "code",
   "execution_count": null,
   "id": "74fa17a4",
   "metadata": {},
   "outputs": [],
   "source": [
    "len(tspan)"
   ]
  },
  {
   "cell_type": "code",
   "execution_count": null,
   "id": "fc6db62e",
   "metadata": {},
   "outputs": [],
   "source": [
    "tspan"
   ]
  },
  {
   "cell_type": "code",
   "execution_count": null,
   "id": "3332dd10",
   "metadata": {},
   "outputs": [],
   "source": [
    "# Plot observed distribution don't plot early values before the distribution has settled into the stationary distribution\n",
    "n,bins,_ = plt.hist(separations[1000:], bins=500, density=True, alpha=0.5)\n",
    "x_points = np.arange(r_d,max(separations[1000:]),0.01)\n",
    "plt.plot(x_points,expected_prop_2d(x_points,PHI,D,r_d))\n",
    "plt.yscale(\"log\")\n",
    "plt.ylim(bottom=10**(-7),top=10**(2))"
   ]
  },
  {
   "cell_type": "markdown",
   "id": "d14f9fa2",
   "metadata": {},
   "source": [
    "## Now run within the environment to check that results are similiar "
   ]
  },
  {
   "cell_type": "code",
   "execution_count": null,
   "id": "7a773851",
   "metadata": {},
   "outputs": [],
   "source": [
    "# run environment with same parameters as above this is a good bit slower than just the bare bone numerics\n",
    "fixed_agent = FixedPhi(PHI)\n",
    "env = synthetic_env(r_d, D=D,kappa=kappa)\n",
    "env.deltaT= 0.005\n",
    "env.limit = 10000\n",
    "observed_distances = []\n",
    "while not env.isOver():\n",
    "    action = fixed_agent.sample_action(env.getState())\n",
    "    reward = env.step(action)\n",
    "    observed_distances.append(env.dist())"
   ]
  },
  {
   "cell_type": "code",
   "execution_count": null,
   "id": "a12e4f80",
   "metadata": {},
   "outputs": [],
   "source": [
    "n,bins,_ = plt.hist(observed_distances, bins=500, density=True, alpha=0.5)\n",
    "x_points = np.arange(r_d,max(observed_distances[1000:]),0.01)\n",
    "plt.plot(x_points,expected_prop_2d(x_points,PHI,D,r_d))\n",
    "plt.yscale(\"log\")\n",
    "plt.ylim(bottom=10**(-7),top=10**(2))"
   ]
  },
  {
   "cell_type": "code",
   "execution_count": null,
   "id": "e4f3571e",
   "metadata": {},
   "outputs": [],
   "source": []
  }
 ],
 "metadata": {
  "@webio": {
   "lastCommId": null,
   "lastKernelId": null
  },
  "kernelspec": {
   "display_name": "Python (stableBase3)",
   "language": "python",
   "name": "stablebase3"
  },
  "language_info": {
   "codemirror_mode": {
    "name": "ipython",
    "version": 3
   },
   "file_extension": ".py",
   "mimetype": "text/x-python",
   "name": "python",
   "nbconvert_exporter": "python",
   "pygments_lexer": "ipython3",
   "version": "3.11.0"
  }
 },
 "nbformat": 4,
 "nbformat_minor": 5
}
